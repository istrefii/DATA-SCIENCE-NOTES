{
 "cells": [
  {
   "cell_type": "code",
   "execution_count": 2,
   "metadata": {},
   "outputs": [],
   "source": [
    "# select all details from french where language = 'French'\n",
    "SELECT *\n",
    "FROM films\n",
    "WHERE language = 'French'\n"
   ]
  },
  {
   "cell_type": "code",
   "execution_count": null,
   "metadata": {},
   "outputs": [],
   "source": [
    "# Get the name and birth date of the person born on November 11th, 1974. Remember to use ISO date format ('1974-11-11')!\n",
    "SELECT name \n",
    "FROM people\n",
    "WHERE birthdate = '1974-11-11'"
   ]
  },
  {
   "cell_type": "code",
   "execution_count": null,
   "metadata": {},
   "outputs": [],
   "source": [
    "# Get the number of Hindi language films.\n",
    "SELECT COUNT(*)\n",
    "FROM films\n",
    "WHERE language = 'Hindi'"
   ]
  },
  {
   "cell_type": "code",
   "execution_count": null,
   "metadata": {},
   "outputs": [],
   "source": [
    "# Select all films with R certification\n",
    "SELECT *\n",
    "FROM films\n",
    "WHERE certification = 'R'"
   ]
  },
  {
   "cell_type": "code",
   "execution_count": null,
   "metadata": {},
   "outputs": [],
   "source": [
    "# Get the title and release year for all Spanish language films released before 2000.\n",
    "SELECT title, release_year\n",
    "FROM films\n",
    "WHERE language='Spanish' AND release_year < 2000"
   ]
  },
  {
   "cell_type": "code",
   "execution_count": null,
   "metadata": {},
   "outputs": [],
   "source": [
    "# Get all details for Spanish language films released after 2000.\n",
    "SELECT * \n",
    "FROM films\n",
    "WHERE language='Spanish' AND release_date > 2000"
   ]
  },
  {
   "cell_type": "code",
   "execution_count": null,
   "metadata": {},
   "outputs": [],
   "source": [
    "# Get all details for Spanish language films released after 2000, but before 2010.\n",
    "SELECT *\n",
    "FROM films\n",
    "WHERE language='Spanish' AND release_year > 2000 AND release_year<2010"
   ]
  },
  {
   "cell_type": "code",
   "execution_count": null,
   "metadata": {},
   "outputs": [],
   "source": [
    "SELECT title\n",
    "FROM films\n",
    "WHERE (release_year = 1994 OR release_year = 1995)\n",
    "AND (certification = 'PG' OR certification = 'R');"
   ]
  },
  {
   "cell_type": "code",
   "execution_count": null,
   "metadata": {},
   "outputs": [],
   "source": [
    "# Get the title and release year for films released in the 90s.\n",
    "SELECT title, release_year \n",
    "FROM films\n",
    "WHERE release_year >=1990 AND release_year <2000\n",
    "\n",
    "# Now, build on your query to filter the records to only include French or Spanish language films.\n",
    "SELECT title, release_year\n",
    "FROM films\n",
    "WHERE (release_year >= 1990 AND release_year < 2000)\n",
    "AND (language = 'French' OR language = 'Spanish')\n",
    "\n",
    "# also which movies took more then 2M\n",
    "SELECT title, release_year\n",
    "FROM films\n",
    "WHERE (release_year >= 1990 AND release_year < 2000)\n",
    "AND (language = 'French' OR language = 'Spanish')\n",
    "AND (gross > 2000000)"
   ]
  },
  {
   "cell_type": "code",
   "execution_count": null,
   "metadata": {},
   "outputs": [],
   "source": [
    "# Get the title and release year of all films released between 1990 and 2000 (inclusive).\n",
    "SELECT title, release_year\n",
    "FROM films\n",
    "WHERE release_year BETWEEN 1990 AND 2000\n",
    "AND (budget > 100000000)\n",
    "AND (language = 'Spanish' or language='French');"
   ]
  },
  {
   "cell_type": "code",
   "execution_count": null,
   "metadata": {},
   "outputs": [],
   "source": [
    "# Get the title and release year of all films released in 1990 or 2000 that were longer than two hours\n",
    "SELECT title, release_year\n",
    "FROM films\n",
    "WHERE release_year IN (1990,2000)\n",
    "AND duration > 120\n",
    "\n",
    "#Get the title and language of all films which were in English, Spanish, or French.\n",
    "Select title, language \n",
    "From films\n",
    "Where language IN ('English', 'Spanish', 'French')\n",
    "\n",
    "# Get the title and certification of all films with an NC-17 or R certification.\n",
    "SELECT title, certification\n",
    "FROM films\n",
    "WHERE certification IN ('NC-17', 'R')"
   ]
  },
  {
   "cell_type": "code",
   "execution_count": null,
   "metadata": {},
   "outputs": [],
   "source": [
    "# Get the names of people who are still alive, i.e. whose death date is missing\n",
    "Select name\n",
    "From people\n",
    "Where deathdate IS NULL\n",
    "\n",
    "# Get the title of every film which doesn't have a budget associated with it.\n",
    "Select title\n",
    "From films\n",
    "Where budget IS NULL\n",
    "\n",
    "# Get the number of films which don't have a language associated with them.\n",
    "select count(*)\n",
    "From films\n",
    "where language is NULL"
   ]
  },
  {
   "cell_type": "code",
   "execution_count": null,
   "metadata": {},
   "outputs": [],
   "source": [
    "# Get the names of all people whose names begin with 'B'. The pattern you need is 'B%'.\n",
    "Select name\n",
    "From people\n",
    "#basically a tab. So choosing names that start with the letter B\n",
    "Where name LIKE 'B%'\n",
    "\n",
    "# Get the names of people whose names have 'r' as the second letter. The pattern you need is '_r%'.\n",
    "Select name\n",
    "From people\n",
    "#the underscore fills in anyletter or word\n",
    "Where name LIKE '_r%'\n",
    "\n",
    "# Get the names of people whose names don't start with A. The pattern you need is 'A%'.\n",
    "Select name \n",
    "From people\n",
    "Where name NOT LIKE 'A%' "
   ]
  },
  {
   "cell_type": "markdown",
   "metadata": {},
   "source": [
    "# Aggregate functions\n"
   ]
  },
  {
   "cell_type": "code",
   "execution_count": null,
   "metadata": {},
   "outputs": [],
   "source": [
    "# Use the SUM function to get the total duration of all films.\n",
    "SELECT sum(duration)\n",
    "From films;\n",
    "\n",
    "#Get the average duration of all films.\n",
    "select AVG(duration)\n",
    "From films;\n",
    "\n",
    "# Get the duration of the shortest film.\n",
    "SELECT MIN(duration)\n",
    "FROM films;\n",
    "\n",
    "# Get the duration of the longest film.\n",
    "SELECT MAX(duration)\n",
    "FROM films;"
   ]
  },
  {
   "cell_type": "code",
   "execution_count": null,
   "metadata": {},
   "outputs": [],
   "source": [
    "# Use the SUM function to get the total amount grossed by all films made in the year 2000 or later.\n",
    "Select sum(gross)\n",
    "From films\n",
    "Where release_year >= 2000\n",
    "\n",
    "# Get the average amount grossed by all films whose titles start with the letter 'A'\n",
    "select avg(gross)\n",
    "from films\n",
    "where title LIKE 'A%'\n",
    "\n",
    "# Get the amount grossed by the worst performing film in 1994.\n",
    "SELECT min(gross)\n",
    "FROM films\n",
    "WHERE release_year = 1994\n",
    "\n",
    "# Get the amount grossed by the best performing film between 2000 and 2012, inclusive\n",
    "SELECT MAX(gross)\n",
    "FROM films\n",
    "WHERE release_year BETWEEN 2000 AND 2012\n",
    "\n",
    "#\n",
    "SELECT (10/3) will equal 3\n",
    "SELECT (10.0/3.0) will give u decimal"
   ]
  },
  {
   "cell_type": "code",
   "execution_count": null,
   "metadata": {},
   "outputs": [],
   "source": [
    "# Get the title and net profit (the amount a film grossed, minus its budget) for all films. Alias the net profit as net_profit.\n",
    "SELECT title, gross- budget AS net_profit\n",
    "FROM films\n",
    "\n",
    "# Get the title and duration in hours for all films. The duration is in minutes, so you'll need to divide by 60.0 to get the duration in hours. Alias the duration in hours as duration_hours\n",
    "SELECT title, duration / 60.0 AS duration_hours\n",
    "FROM films;\n",
    "\n",
    "#Get the average duration in hours for all films, aliased as avg_duration_hours.\n",
    "SELECT AVG(duration)/ 60.0 as avg_duration_hours\n",
    "FROM films;\n"
   ]
  },
  {
   "cell_type": "code",
   "execution_count": null,
   "metadata": {},
   "outputs": [],
   "source": [
    "#get the count(deathdate) and multiply by 100.0\n",
    "#then divide by count(*) \n",
    "SELECT COUNT(deathdate) * 100.0 / COUNT(*) AS percentage_dead\n",
    "FROM people;\n",
    "\n",
    "# Get the number of years between the newest film and oldest film. Alias the result as difference\n",
    "SELECT max(release_year)- min(release_year) AS difference\n",
    "FROM films\n",
    "\n",
    "#Get the number of decades the films table covers. Alias the result as number_of_decades. \n",
    "# The top half of your fraction should be enclosed in parentheses.\n",
    "SELECT (max(release_year) - min(release_year)) /10\n",
    "AS number_of_decades\n",
    "FROM films"
   ]
  },
  {
   "cell_type": "markdown",
   "metadata": {},
   "source": [
    "# Order By"
   ]
  },
  {
   "cell_type": "code",
   "execution_count": null,
   "metadata": {},
   "outputs": [],
   "source": [
    "SELECT title\n",
    "FROM films\n",
    "ORDER BY release_year DESC;\n",
    "# sort by ABC order"
   ]
  },
  {
   "cell_type": "code",
   "execution_count": null,
   "metadata": {},
   "outputs": [],
   "source": [
    "# Get the names of people from the people table, sorted alphabetically.\n",
    "SELECT name\n",
    "FROM people\n",
    "ORDER BY name\n",
    "\n",
    "#Get the names of people, sorted by birth date.\n",
    "SELECT name\n",
    "FROM people\n",
    "ORDER BY birthdate\n",
    "\n",
    "# Get the birth date and name for every person, in order of when they were born.\n",
    "SELECT name, birthdate\n",
    "FROM people\n",
    "ORDER BY birthdate"
   ]
  },
  {
   "cell_type": "code",
   "execution_count": null,
   "metadata": {},
   "outputs": [],
   "source": [
    "# Get the title of films released in 2000 or 2012, in the order they were released.\n",
    "SELECT title\n",
    "FROM films\n",
    "WHERE release_year IN(2000,2012)\n",
    "ORDER BY release_year\n",
    "\n",
    "# Get all details for all films except those released in 2015 and order them by duration.\n",
    "SELECT *\n",
    "FROM films\n",
    "WHERE release_year != 2015\n",
    "ORDER BY duration\n",
    "\n",
    "# Get the title and gross earnings for movies which begin with the letter 'M' \n",
    "#and order the results alphabetically.\n",
    "SELECT title, gross \n",
    "FROM films\n",
    "WHERE title LIKE 'M%'\n",
    "ORDER BY title"
   ]
  },
  {
   "cell_type": "code",
   "execution_count": null,
   "metadata": {},
   "outputs": [],
   "source": [
    "# Get the IMDB score and film ID for every film from the reviews table, \n",
    "# sorted from highest to lowest score.\n",
    "SELECT imdb_score, film_id\n",
    "FROM reviews\n",
    "ORDER BY imdb_score DESC\n",
    "\n",
    "#Get the title for every film, in reverse order.\n",
    "SELECT title\n",
    "FROM films \n",
    "ORDER BY title DESC\n",
    "\n",
    "#Get the title and duration for every film, in order of longest duration to shortest\n",
    "SELECT title, duration\n",
    "FROM films\n",
    "ORDER BY duration DESC\n"
   ]
  },
  {
   "cell_type": "code",
   "execution_count": null,
   "metadata": {},
   "outputs": [],
   "source": [
    "# Get the birth date and name of people in the people table,\n",
    "# in order of when they were born and alphabetically by name.\n",
    "SELECT birthdate, name\n",
    "FROM people\n",
    "ORDER BY birthdate, name\n",
    "\n",
    "# Get the release year, duration, and title of films ordered by their release year and duration.\n",
    "SELECT release_year, duration, title\n",
    "FROM films\n",
    "ORDER BY release_year, duration\n",
    "\n",
    "# Get certifications, release years, and titles of films ordered by certification (alphabetically) \n",
    "# and release year\n",
    "SELECT certification, release_year, title\n",
    "FROM films\n",
    "ORDER BY certification, release_year\n",
    "\n",
    "# Get the names and birthdates of people ordered by name and birth date.\n",
    "SELECT name, birthdate\n",
    "FROM people\n",
    "ORDER BY name, birthdate"
   ]
  },
  {
   "cell_type": "markdown",
   "metadata": {},
   "source": [
    "# GROUP BY\n"
   ]
  },
  {
   "cell_type": "code",
   "execution_count": null,
   "metadata": {},
   "outputs": [],
   "source": [
    "SELECT sex, count(*)\n",
    "FROM employees\n",
    "GROUP BY sex;\n",
    "\n",
    "SELECT sex, count(*)\n",
    "FROM employees\n",
    "GROUP BY sex\n",
    "ORDER BY count DESC;"
   ]
  },
  {
   "cell_type": "code",
   "execution_count": null,
   "metadata": {},
   "outputs": [],
   "source": [
    "# Get the release year and count of films released in each year.\n",
    "SELECT release_year, count(*)\n",
    "FROM films\n",
    "GROUP BY release_year\n",
    "\n",
    "# Get the release year and average duration of all films, grouped by release year.\n",
    "SELECT release_year, avg(duration)\n",
    "FROM films\n",
    "GROUP BY release_year\n",
    "\n",
    "# Get the release year and largest budget for all films, grouped by release year.\n",
    "SELECT release_year, max(budget)\n",
    "FROM films\n",
    "GROUP BY release_year\n",
    "\n",
    "# Get the IMDB score and count of film reviews grouped by IMDB score in the reviews table\n",
    "SELECT imdb_score, count(*)\n",
    "FROM reviews\n",
    "GROUP BY imdb_score"
   ]
  },
  {
   "cell_type": "code",
   "execution_count": null,
   "metadata": {},
   "outputs": [],
   "source": [
    "# Get the release year and lowest gross earnings per release year.\n",
    "SELECT release_year, min(gross)\n",
    "FROM films\n",
    "GROUP BY release_year\n",
    "\n",
    "# Get the language and total gross amount films in each language made.\n",
    "SELECT language, sum(gross)\n",
    "FROM films\n",
    "GROUP BY language\n",
    "\n",
    "# Get the country and total budget spent making movies in each country.\n",
    "SELECT country, sum(budget)\n",
    "FROM films \n",
    "GROUP BY country\n",
    "\n",
    "# Get the release year, country, and highest budget spent making a film for each year,\n",
    "# for each country. Sort your results by release year and country.\n",
    "SELECT release_year, country, max(budget)\n",
    "FROM films\n",
    "GROUP BY release_year, country\n",
    "ORDER BY release_year, country\n",
    "\n",
    "# Get the country, release year, and lowest amount grossed per release year per country.\n",
    "# Order your results by country and release year.\n",
    "SELECT country, release_year, min(gross)\n",
    "FROM films\n",
    "GROUP BY release_year, country\n",
    "ORDER BY country, release_year"
   ]
  },
  {
   "cell_type": "markdown",
   "metadata": {},
   "source": [
    "# HAVING a great time\n"
   ]
  },
  {
   "cell_type": "code",
   "execution_count": null,
   "metadata": {},
   "outputs": [],
   "source": [
    "# In how many different years were more than 200 movies released?\n",
    "SELECT release_year\n",
    "FROM films\n",
    "GROUP BY release_year\n",
    "HAVING COUNT(title) > 200"
   ]
  },
  {
   "cell_type": "code",
   "execution_count": null,
   "metadata": {},
   "outputs": [],
   "source": [
    "# Get the release year, budget and gross earnings for each film in the films table.\n",
    "SELECT release_year, budget, gross\n",
    "FROM Films\n",
    "\n",
    "# Modify your query so that only records with a release_year after 1990 are included.\n",
    "SELECT release_year, budget, gross\n",
    "FROM films\n",
    "WHERE release_year > 1990\n",
    "\n",
    "#Remove the budget and gross columns, and group your results by release year.\n",
    "SELECT release_year\n",
    "FROM films\n",
    "WHERE release_year > 1990\n",
    "GROUP BY release_year\n",
    "\n",
    "#Modify your query to include the average budget and average gross earnings for the results you have so far.\n",
    "# Alias the average budget as avg_budget; alias the average gross earnings as avg_gross.\n",
    "SELECT release_year, avg(budget) AS avg_budget, avg(gross) AS avg_gross\n",
    "FROM films\n",
    "WHERE release_year > 1990\n",
    "GROUP BY release_year\n",
    "\n",
    "# Modify your query so that only years with an average budget of greater than $60 million are included.\n",
    "SELECT release_year, AVG(budget) AS avg_budget, AVG(gross) AS avg_gross\n",
    "FROM films\n",
    "WHERE release_year > 1990\n",
    "GROUP BY release_year\n",
    "HAVING AVG(budget) > 60000000\n",
    "\n",
    "\n",
    "# Finally, modify your query to order the results from highest average gross earnings to lowest.\n",
    "SELECT release_year, AVG(budget) AS avg_budget, AVG(gross) AS avg_gross\n",
    "FROM films\n",
    "WHERE release_year > 1990\n",
    "GROUP BY release_year\n",
    "HAVING AVG(budget) > 60000000\n",
    "ORDER BY AVG(gross) DESC"
   ]
  },
  {
   "cell_type": "code",
   "execution_count": null,
   "metadata": {},
   "outputs": [],
   "source": [
    "#select country, average budget, \n",
    "# and average gross\n",
    "SELECT country, avg(budget) as avg_budget, avg(gross) as avg_gross\n",
    "\n",
    "#from the films table\n",
    "FROM films\n",
    "\n",
    "# group by country \n",
    "GROUP BY country\n",
    "\n",
    "#where the country has more than 10 titles\n",
    "HAVING count(title) > 10\n",
    "\n",
    "#order by country\n",
    "ORDER BY country\n",
    "\n",
    "#limit to only show 5 results\n",
    "LIMIT 5"
   ]
  },
  {
   "cell_type": "code",
   "execution_count": null,
   "metadata": {},
   "outputs": [],
   "source": [
    "SELECT title, imdb_score\n",
    "FROM films\n",
    "JOIN reviews\n",
    "ON films.id = reviews.film_id\n",
    "WHERE title = 'To Kill a Mockingbird';"
   ]
  },
  {
   "cell_type": "code",
   "execution_count": null,
   "metadata": {},
   "outputs": [],
   "source": []
  }
 ],
 "metadata": {
  "kernelspec": {
   "display_name": "Python 3",
   "language": "python",
   "name": "python3"
  },
  "language_info": {
   "codemirror_mode": {
    "name": "ipython",
    "version": 3
   },
   "file_extension": ".py",
   "mimetype": "text/x-python",
   "name": "python",
   "nbconvert_exporter": "python",
   "pygments_lexer": "ipython3",
   "version": "3.8.5"
  }
 },
 "nbformat": 4,
 "nbformat_minor": 4
}
