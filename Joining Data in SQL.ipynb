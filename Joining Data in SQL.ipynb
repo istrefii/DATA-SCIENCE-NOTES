{
 "cells": [
  {
   "cell_type": "markdown",
   "metadata": {},
   "source": [
    "# Joining Data in SQL\n"
   ]
  },
  {
   "cell_type": "code",
   "execution_count": 1,
   "metadata": {},
   "outputs": [],
   "source": [
    "import pandas as pd\n",
    "from sqlalchemy import create_engine"
   ]
  },
  {
   "cell_type": "code",
   "execution_count": 18,
   "metadata": {},
   "outputs": [],
   "source": [
    "from sqlalchemy import create_engine\n",
    "from sqlalchemy import MetaData\n",
    "from sqlalchemy import Table\n",
    "from sqlalchemy import Column\n",
    "from sqlalchemy import Integer, String\n",
    "from sqlalchemy import inspect\n",
    "import pandas as pd\n",
    "from pprint import pprint as pp"
   ]
  },
  {
   "cell_type": "code",
   "execution_count": 20,
   "metadata": {},
   "outputs": [],
   "source": [
    "pd.set_option('max_columns', 200)\n",
    "pd.set_option('max_rows', 300)\n",
    "pd.set_option('display.expand_frame_repr', True)"
   ]
  },
  {
   "cell_type": "code",
   "execution_count": 23,
   "metadata": {},
   "outputs": [],
   "source": [
    "engine = create_engine('sqlite:///countries.sql')\n",
    "meta = MetaData(schema=\"countries\")\n",
    "conn = engine.connect()\n"
   ]
  },
  {
   "cell_type": "code",
   "execution_count": 5,
   "metadata": {},
   "outputs": [
    {
     "data": {
      "text/plain": [
       "Engine(sqlite:///countries.sql)"
      ]
     },
     "execution_count": 5,
     "metadata": {},
     "output_type": "execute_result"
    }
   ],
   "source": [
    "engine= create_engine(\"sqlite:///countries.sql\")\n",
    "engine"
   ]
  },
  {
   "cell_type": "code",
   "execution_count": null,
   "metadata": {},
   "outputs": [],
   "source": [
    "SELECT *\n",
    "FROM left_table\n",
    "INNER JOIN right_table\n",
    "ON left_table.id = right_table.id;\n",
    "\n",
    "# Select name fields (with alias) and region \n",
    "SELECT cities.name AS city, countries.name AS country, region\n",
    "FROM cities\n",
    "  INNER JOIN countries\n",
    "    ON cities.country_code = countries.code;"
   ]
  },
  {
   "cell_type": "code",
   "execution_count": null,
   "metadata": {},
   "outputs": [],
   "source": [
    "SELECT c1.name AS city, c2.name AS country\n",
    "FROM cities AS c1\n",
    "INNER JOIN countries AS c2\n",
    "ON c1.country_code = c2.code;\n",
    "\n",
    "#  Select fields with aliases\n",
    "SELECT c.code AS country_code, name, year, inflation_rate\n",
    "FROM countries AS c\n",
    "  #  Join to economies (alias e)\n",
    "  INNER JOIN economies AS e\n",
    "    # Match on code\n",
    "ON c.code = e.code"
   ]
  },
  {
   "cell_type": "code",
   "execution_count": null,
   "metadata": {},
   "outputs": [],
   "source": [
    "# 6. Select fields\n",
    "SELECT c.code, name, region, e.year, fertility_rate, unemployment_rate\n",
    "  # 1. From countries (alias as c)\n",
    "  FROM countries AS c\n",
    "  # 2. Join to populations (as p)\n",
    "  INNER JOIN populations AS p\n",
    "    # 3. Match on country code\n",
    "    ON c.code = p.country_code\n",
    "  # 4. Join to economies (as e)\n",
    "  INNER JOIN economies AS e\n",
    "    # 5. Match on country code and year\n",
    "    ON c.code = e.code AND p.year = e.year;"
   ]
  },
  {
   "cell_type": "markdown",
   "metadata": {},
   "source": [
    "# INNER JOIN via USING"
   ]
  },
  {
   "cell_type": "code",
   "execution_count": null,
   "metadata": {},
   "outputs": [],
   "source": [
    "# if column the same can use USING(id) instead of c.id= p.id\n",
    "SELECT *\n",
    "FROM countries\n",
    "  INNER JOIN economies\n",
    "    USING(code)\n",
    "    \n",
    "# 4. Select fields\n",
    "SELECT c.name AS country, continent, l.name AS language, official\n",
    "  # 1. From countries (alias as c)\n",
    "  FROM countries AS c\n",
    "  # 2. Join to languages (as l)\n",
    "  INNER JOIN languages AS l\n",
    "    # 3. Match using code\n",
    "    USING (code)"
   ]
  },
  {
   "cell_type": "markdown",
   "metadata": {},
   "source": [
    "# Self-ish joins, just in CASE\n"
   ]
  },
  {
   "cell_type": "code",
   "execution_count": null,
   "metadata": {},
   "outputs": [],
   "source": [
    "# 5. Select fields with aliases\n",
    "SELECT p1.country_code,\n",
    "       p1.size AS size2010,\n",
    "       p2.size AS size2015\n",
    "# 1. From populations (alias as p1)\n",
    "FROM populations AS p1\n",
    "  # 2. Join to itself (alias as p2)\n",
    "  INNER JOIN populations AS p2\n",
    "    # 3. Match on country code\n",
    "    ON p1.country_code = p2.country_code\n",
    "        # 4. and year (with calculation)\n",
    "        AND p1.year = p2.year - 5;\n",
    "        \n",
    "\n",
    "SELECT p1.country_code,\n",
    "       p1.size AS size2010, \n",
    "       p2.size AS size2015,\n",
    "       # 1. calculate growth_perc\n",
    "       ((p2.size - p1.size)/p1.size * 100.0) AS growth_perc\n",
    "# 2. From populations (alias as p1)\n",
    "FROM populations AS p1\n",
    "  # 3. Join to itself (alias as p2)\n",
    "  INNER JOIN populations AS p2\n",
    "    # 4. Match on country code\n",
    "    ON p1.country_code = p2.country_code\n",
    "        # 5. and year (with calculation)\n",
    "        AND p1.year = p2.year - 5;"
   ]
  },
  {
   "cell_type": "code",
   "execution_count": null,
   "metadata": {},
   "outputs": [],
   "source": [
    "SELECT name, continent, code, surface_area,\n",
    "    # 1. First case\n",
    "    CASE WHEN surface_area > 2000000 THEN 'large'\n",
    "        # 2. Second case\n",
    "        WHEN surface_area > 350000 THEN 'medium'\n",
    "        # 3. Else clause + end\n",
    "        ELSE 'small' END\n",
    "        # 4. Alias name\n",
    "        AS geosize_group\n",
    "# 5. From table\n",
    "FROM countries;"
   ]
  },
  {
   "cell_type": "code",
   "execution_count": null,
   "metadata": {},
   "outputs": [],
   "source": [
    "SELECT name, continent, code, surface_area,\n",
    "    CASE WHEN surface_area > 2000000\n",
    "            THEN 'large'\n",
    "       WHEN surface_area > 350000\n",
    "            THEN 'medium'\n",
    "       ELSE 'small' END\n",
    "       AS geosize_group\n",
    "INTO countries_plus\n",
    "FROM countries;"
   ]
  },
  {
   "cell_type": "code",
   "execution_count": null,
   "metadata": {},
   "outputs": [],
   "source": [
    "SELECT country_code, size,\n",
    "  CASE WHEN size > 50000000\n",
    "            THEN 'large'\n",
    "       WHEN size > 1000000\n",
    "            THEN 'medium'\n",
    "       ELSE 'small' END\n",
    "       AS popsize_group\n",
    "INTO pop_plus       \n",
    "FROM populations\n",
    "WHERE year = 2015;\n",
    "\n",
    "# 5. Select fields\n",
    "SELECT name, continent, geosize_group, popsize_group\n",
    "# 1. From countries_plus (alias as c)\n",
    "FROM countries_plus As c\n",
    "  # 2. Join to pop_plus (alias as p)\n",
    "  INNER JOIN pop_plus AS p\n",
    "    # 3. Match on country code\n",
    "    ON c.code = p.country_code\n",
    "# 4. Order the table    \n",
    "ORDER BY geosize_group;"
   ]
  },
  {
   "cell_type": "markdown",
   "metadata": {},
   "source": [
    "# LEFT and RIGHT JOINs\n"
   ]
  },
  {
   "cell_type": "code",
   "execution_count": null,
   "metadata": {},
   "outputs": [],
   "source": [
    "# Select the city name (with alias), the country code,\n",
    "# the country name (with alias), the region,\n",
    "# and the city proper population\n",
    "SELECT c1.name AS city, code, c2.name AS country,\n",
    "       region, city_proper_pop\n",
    "# From left table (with alias)\n",
    "FROM cities AS c1\n",
    "  # Join to right table (with alias)\n",
    "  INNER JOIN countries AS c2\n",
    "    #  on country code\n",
    "    ON c1.country_code = c2.code\n",
    "# Order by descending country code\n",
    "ORDER BY code DESC;\n",
    "\n",
    "\n",
    "SELECT c1.name AS city, code, c2.name AS country,\n",
    "       region, city_proper_pop\n",
    "FROM cities AS c1\n",
    "  # 1. Join right table (with alias)\n",
    "  LEFT JOIN countries AS c2\n",
    "    # 2. Match on country code\n",
    "    ON c1.country_code = c2.code\n",
    "# 3. Order by descending country code\n",
    "ORDER BY code DESC;"
   ]
  },
  {
   "cell_type": "code",
   "execution_count": null,
   "metadata": {},
   "outputs": [],
   "source": [
    "\n",
    "# Select country name AS country, the country's local name,\n",
    "#the language name AS language, and\n",
    "#the percent of the language spoken in the country\n",
    "SELECT c.name AS country, local_name, l.name AS language, percent\n",
    "\n",
    "#From left table (alias as c)\n",
    "FROM countries AS c\n",
    "  # 2. Join to right table (alias as l)\n",
    "  LEFT JOIN languages AS l\n",
    "    # 3. Match on fields\n",
    "    ON c.code = l.code\n",
    "# 4. Order by descending country\n",
    "ORDER BY country DESC;"
   ]
  },
  {
   "cell_type": "code",
   "execution_count": null,
   "metadata": {},
   "outputs": [],
   "source": [
    "# 5. Select name, region, and gdp_percapita\n",
    "SELECT name, region, gdp_percapita\n",
    "# 1. From countries (alias as c)\n",
    "FROM countries AS c\n",
    "  # 2. Left join with economies (alias as e)\n",
    "  LEFT JOIN economies AS e\n",
    "    # 3. Match on code fields\n",
    "    ON c.code = e.code\n",
    "# 4. Focus on 2010\n",
    "WHERE year = 2010;\n",
    "\n",
    "# Select fields\n",
    "SELECT region, avg(gdp_percapita) AS avg_gdp\n",
    "# From countries (alias as c)\n",
    "FROM countries AS c\n",
    "  # Left join with economies (alias as e)\n",
    "  LEFT JOIN economies AS e\n",
    "    # Match on code fields\n",
    "   USING(code)\n",
    "# Focus on 2010\n",
    "WHERE year = 2010\n",
    "# Group by region\n",
    "GROUP BY region;\n",
    "\n",
    "# Select fields\n",
    "SELECT region, avg(gdp_percapita) AS avg_gdp\n",
    "# From countries (alias as c)\n",
    "FROM countries AS c\n",
    "  # Left join with economies (alias as e)\n",
    "  LEFT JOIN economies AS e\n",
    "    # Match on code fields\n",
    "   USING(code)\n",
    "# Focus on 2010\n",
    "WHERE year = 2010\n",
    "# Group by region\n",
    "GROUP BY region;\n",
    "# desc order\n",
    "ORDER BY avg_gdp"
   ]
  },
  {
   "cell_type": "code",
   "execution_count": null,
   "metadata": {},
   "outputs": [],
   "source": [
    "# RIGHT JOIN\n",
    "SELECT cities.name AS city, urbanarea_pop, countries.name AS country,\n",
    "       indep_year, languages.name AS language, percent\n",
    "FROM languages \n",
    "  RIGHT JOIN countries\n",
    "    ON languages.code = countries.code\n",
    "  RIGHT JOIN cities\n",
    "    ON countries.code = cities.country_code\n",
    "ORDER BY city, language;"
   ]
  },
  {
   "cell_type": "markdown",
   "metadata": {},
   "source": [
    "# FULL JOINs\n"
   ]
  },
  {
   "cell_type": "code",
   "execution_count": null,
   "metadata": {},
   "outputs": [],
   "source": [
    "SELECT name AS country, code, region, basic_unit\n",
    "# 3. From countries\n",
    "FROM countries\n",
    "  # 4. Join to currencies\n",
    "  FULL JOIN currencies\n",
    "    # 5. Match on code\n",
    "    USING (code)\n",
    "# 1. Where region is North America or null\n",
    "WHERE region = 'North America' OR region IS NULL\n",
    "# 2. Order by region\n",
    "ORDER BY region;\n",
    "\n",
    "SELECT countries.name, code, languages.name AS language\n",
    "FROM languages\n",
    "  #1. Join to countries\n",
    "  INNER JOIN countries\n",
    "    USING (code)\n",
    "# 2. Where countries.name starts with V or is null\n",
    "WHERE countries.name LIKE 'V%' OR countries.name IS NULL\n",
    "ORDER BY countries.name;"
   ]
  },
  {
   "cell_type": "code",
   "execution_count": null,
   "metadata": {},
   "outputs": [],
   "source": [
    "# 7. Select fields (with aliases)\n",
    "SELECT c1.name AS country, region, l.name AS language,\n",
    "       basic_unit, frac_unit\n",
    "# 1. From countries (alias as c1)\n",
    "FROM countries AS c1\n",
    "  # 2. Join with languages (alias as l)\n",
    "  FULL JOIN languages AS l\n",
    "    # 3. Match on code\n",
    "    USING (code)\n",
    "  # 4. Join with currencies (alias as c2)\n",
    "  FULL JOIN currencies AS c2\n",
    "    # 5. Match on code\n",
    "    USING (code)\n",
    "# 6. Where region like Melanesia and Micronesia\n",
    "WHERE region LIKE 'M%esia';"
   ]
  },
  {
   "cell_type": "markdown",
   "metadata": {},
   "source": [
    "# CROSSing the rubicon"
   ]
  },
  {
   "cell_type": "code",
   "execution_count": null,
   "metadata": {},
   "outputs": [],
   "source": [
    "# 4. Select fields\n",
    "SELECT c.name AS city, l.name AS language\n",
    "# 1. From cities (alias as c)\n",
    "FROM cities AS c        \n",
    "  # 2. Join to languages (alias as l)\n",
    "  CROSS JOIN languages AS l\n",
    "# 3. Where c.name like Hyderabad\n",
    "WHERE c.name LIKE 'Hyder%';"
   ]
  },
  {
   "cell_type": "code",
   "execution_count": null,
   "metadata": {},
   "outputs": [],
   "source": [
    "# Select fields\n",
    "SELECT c.name AS country, region, p.life_expectancy AS life_exp\n",
    "# From countries (alias as c)\n",
    "FROM countries AS c\n",
    "  # Join to populations (alias as p)\n",
    "  LEFT JOIN populations AS p\n",
    "    # Match on country code\n",
    "    ON c.code = p.country_code\n",
    "# Focus on 2010\n",
    "WHERE year = 2010\n",
    "# Order by life_exp\n",
    "ORDER by life_exp\n",
    "# Limit to 5 records\n",
    "LIMIT 5"
   ]
  },
  {
   "cell_type": "markdown",
   "metadata": {},
   "source": [
    "# State of the UNION\n"
   ]
  },
  {
   "cell_type": "code",
   "execution_count": null,
   "metadata": {},
   "outputs": [],
   "source": [
    "#tables stacking above each other\n",
    "\n",
    "# Select fields from 2010 table\n",
    "SELECT *\n",
    "  # From 2010 table\n",
    "  FROM economies2010\n",
    "\t# Set theory clause\n",
    "\tSET UNION\n",
    "# Select fields from 2015 table\n",
    "SELECT *\n",
    "  # From 2015 table\n",
    "  FROM economies2015\n",
    "# Order by code and year\n",
    "ORDER BY code, year;"
   ]
  },
  {
   "cell_type": "code",
   "execution_count": null,
   "metadata": {},
   "outputs": [],
   "source": [
    "# Select field\n",
    "SELECT country_code\n",
    "  # From cities\n",
    "  FROM cities\n",
    "\t# Set theory clause\n",
    "\tUNION\n",
    "# Select field\n",
    "SELECT code\n",
    "  # From currencies\n",
    "  FROM currencies\n",
    "# Order by country_code\n",
    "ORDER BY country_code;"
   ]
  },
  {
   "cell_type": "code",
   "execution_count": null,
   "metadata": {},
   "outputs": [],
   "source": [
    "# for duplicates use UNION all\n",
    "\n",
    "# Select fields\n",
    "SELECT code, year\n",
    "  # From economies\n",
    "  FROM economies\n",
    "\t# Set theory clause\n",
    "\tSET UNION ALL\n",
    "# Select fields\n",
    "SELECT country_code, year\n",
    "  # From populations\n",
    "  FROM populations\n",
    "# Order by code, year\n",
    "ORDER BY code, year;"
   ]
  },
  {
   "cell_type": "markdown",
   "metadata": {},
   "source": [
    "# INTERSECTional data science"
   ]
  },
  {
   "cell_type": "code",
   "execution_count": null,
   "metadata": {},
   "outputs": [],
   "source": [
    "# good fof finding the same values\n",
    "# syntax\n",
    "SELECT id\n",
    "FROM left_one \n",
    "INTERSECT\n",
    "SELECT id\n",
    "FROM right_one\n",
    "\n",
    "# Select fields\n",
    "SELECT code, year\n",
    "  # From economies\n",
    "  FROM economies\n",
    "\t# Set theory clause\n",
    "\tSET INTERSECT\n",
    "# Select fields\n",
    "SELECT country_code, year\n",
    "  # From populations\n",
    "  FROM populations\n",
    "# Order by code and year\n",
    "ORDER BY code, year;"
   ]
  },
  {
   "cell_type": "code",
   "execution_count": null,
   "metadata": {},
   "outputs": [],
   "source": [
    "# see which countries have the same city names\n",
    "#Select fields\n",
    "SELECT name\n",
    "  # From countries\n",
    "  FROM countries\n",
    "\t# Set theory clause\n",
    "\tSET INTERSECT\n",
    "# Select fields\n",
    "SELECT name\n",
    "  # From cities\n",
    "  FROM cities;"
   ]
  },
  {
   "cell_type": "markdown",
   "metadata": {},
   "source": [
    "# EXCEPTional"
   ]
  },
  {
   "cell_type": "code",
   "execution_count": null,
   "metadata": {},
   "outputs": [],
   "source": [
    "# this includes the city with missing country codes \n",
    "# Select field\n",
    "SELECT name\n",
    "  # From cities\n",
    "  FROM cities\n",
    "\t# Set theory clause\n",
    "\tEXCEPT\n",
    "# Select field\n",
    "SELECT capital\n",
    "  # From countries\n",
    "  FROM countries\n",
    "# Order by result\n",
    "ORDER BY name;\n",
    "\n",
    "\n",
    "# Determine the names of capital cities that are not listed in the cities table.\n",
    "# Select field\n",
    "SELECT capital\n",
    "  # From countries\n",
    "  FROM countries\n",
    "\t# Set theory clause\n",
    "\tSET EXCEPT\n",
    "# Select field\n",
    "SELECT name\n",
    "  # From cities\n",
    "  FROM cities\n",
    "# Order by ascending capital\n",
    "ORDER BY capital;"
   ]
  },
  {
   "cell_type": "markdown",
   "metadata": {},
   "source": [
    "# Semi-joins and Anti-joins\n"
   ]
  },
  {
   "cell_type": "code",
   "execution_count": null,
   "metadata": {},
   "outputs": [],
   "source": [
    "# Select distinct fields\n",
    "SELECT DISTINCT(name)\n",
    "  # From languages\n",
    "  FROM languages\n",
    "# Where in statement\n",
    "WHERE code IN\n",
    "  # Subquery\n",
    "  (SELECT code\n",
    "   FROM countries\n",
    "   WHERE region='Middle East')\n",
    "# Order by name\n",
    "ORDER BY name;\n"
   ]
  },
  {
   "cell_type": "code",
   "execution_count": null,
   "metadata": {},
   "outputs": [],
   "source": [
    "# 3. Select fields\n",
    "SELECT code, name\n",
    "  # 4. From Countries\n",
    "  FROM countries\n",
    "  # 5. Where continent is Oceania\n",
    "  WHERE continent = 'Oceania'\n",
    "  \t# 1. And code not in\n",
    "  \tAND code NOT IN\n",
    "  \t# 2. Subquery\n",
    "  \t(SELECT code\n",
    "  \t FROM currencies);"
   ]
  },
  {
   "cell_type": "code",
   "execution_count": null,
   "metadata": {},
   "outputs": [],
   "source": [
    "# Ientify the country codes that are included in either economies or currencies but not in populations.\n",
    "\n",
    "# Select the city name\n",
    "SELECT name\n",
    "  # Alias the table where city name resides\n",
    "  FROM cities AS c1\n",
    "  # Choose only records matching the result of multiple set theory clauses\n",
    "  WHERE country_code IN\n",
    "(\n",
    "    #Select appropriate field from economies AS e\n",
    "    SELECT e.code\n",
    "    FROM economies AS e\n",
    "    # Get all additional (unique) values of the field from currencies AS c2  \n",
    "    UNION\n",
    "    SELECT c2.code\n",
    "    FROM currencies AS c2\n",
    "    # Exclude those appearing in populations AS p\n",
    "    EXCEPT\n",
    "    SELECT p.country_code\n",
    "    FROM populations AS p\n",
    ");"
   ]
  },
  {
   "cell_type": "markdown",
   "metadata": {},
   "source": [
    "# Subqueries inside WHERE and SELECT clauses\n"
   ]
  },
  {
   "cell_type": "code",
   "execution_count": null,
   "metadata": {},
   "outputs": [],
   "source": [
    "# You'll now try to figure out which countries \n",
    "#had high average life expectancies (at the country level) in 2015.\n",
    "\n",
    "#example\n",
    "SELECT *\n",
    "  FROM populations\n",
    "WHERE life_expectancy > 1.15 * 100\n",
    "  AND year = 2015;\n",
    "    \n",
    "# Select fields\n",
    "SELECT *\n",
    "  # From populations\n",
    "  FROM populations\n",
    "# Where life_expectancy is greater than\n",
    "WHERE life_expectancy >\n",
    "  # 1.15 * subquery\n",
    "  1.15 * (SELECT AVG(life_expectancy)\n",
    "   FROM populations\n",
    "   WHERE year = 2015) AND\n",
    "  year = 2015;"
   ]
  },
  {
   "cell_type": "code",
   "execution_count": null,
   "metadata": {},
   "outputs": [],
   "source": [
    "# Use your knowledge of subqueries in WHERE to get the urban area population for only capital cities.\n",
    "#  2. Select fields\n",
    "SELECT name, country_code, urbanarea_pop\n",
    "   #. From cities\n",
    "  FROM cities\n",
    " # Where city name in the field of capital cities\n",
    "WHERE name IN\n",
    "   # Subquery\n",
    "  (SELECT capital\n",
    "   FROM countries)\n",
    "ORDER BY urbanarea_pop DESC;"
   ]
  },
  {
   "cell_type": "code",
   "execution_count": null,
   "metadata": {},
   "outputs": [],
   "source": [
    "SELECT countries.name AS country, COUNT(*) AS cities_num\n",
    "  FROM cities\n",
    "    INNER JOIN countries\n",
    "    ON countries.code = cities.country_code\n",
    "GROUP BY country\n",
    "ORDER BY cities_num DESC, country\n",
    "LIMIT 9\n",
    "\n",
    "\n",
    "SELECT countries.name AS country,\n",
    "  (SELECT COUNT(*)\n",
    "   FROM cities\n",
    "   WHERE countries.code = cities.country_code) AS cities_num\n",
    "FROM countries\n",
    "ORDER BY cities_num DESC, country\n",
    "LIMIT 9;\n"
   ]
  },
  {
   "cell_type": "markdown",
   "metadata": {},
   "source": [
    "# Subquery inside FROM clause\n"
   ]
  },
  {
   "cell_type": "code",
   "execution_count": null,
   "metadata": {},
   "outputs": [],
   "source": [
    "SELECT DISTINCT table1.col, subquery.maxperc\n",
    "FROM table1,\n",
    "    (SELECT cont, MAX(per) AS max_per\n",
    "    FROM STATES \n",
    "    GROUP BY contient) AS subqery\n",
    "WHERE\n",
    "\n",
    "SELECT local_name, subquery.lang_num\n",
    "  FROM countries,\n",
    "  \t(SELECT code, COUNT(*) AS lang_num\n",
    "  \t FROM languages\n",
    "  \t GROUP BY code) AS subquery\n",
    "  WHERE countries.code = subquery.code\n",
    "ORDER BY lang_num DESC;"
   ]
  },
  {
   "cell_type": "code",
   "execution_count": null,
   "metadata": {},
   "outputs": [],
   "source": [
    "# Select fields\n",
    "SELECT name, continent, inflation_rate\n",
    "  # From countries\n",
    "  FROM countries\n",
    "\t# Join to economies\n",
    "\tINNER JOIN economies\n",
    "\t# Match on code\n",
    "\tON countries.code = economies.code\n",
    "  # Where year is 2015\n",
    "  WHERE year = 2015\n",
    "    # And inflation rate in subquery (alias as subquery)\n",
    "    AND inflation_rate IN (\n",
    "        SELECT MAX(inflation_rate) AS max_inf\n",
    "        FROM (\n",
    "             SELECT name, continent, inflation_rate\n",
    "             FROM countries\n",
    "             INNER JOIN economies\n",
    "             ON countries.code = economies.code\n",
    "             WHERE year = 2015) AS subquery\n",
    "      # Group by continent\n",
    "        GROUP BY continent);"
   ]
  },
  {
   "cell_type": "code",
   "execution_count": null,
   "metadata": {},
   "outputs": [],
   "source": [
    "-- Select fields\n",
    "SELECT code, inflation_rate, unemployment_rate\n",
    "  -- From economies\n",
    "  FROM economies\n",
    "  -- Where year is 2015 and code is not in\n",
    "  WHERE year = 2015 AND code NOT IN\n",
    "  \t-- Subquery\n",
    "  \t(SELECT code\n",
    "  \t FROM countries\n",
    "  \t WHERE (gov_form = 'Constitutional Monarchy' OR gov_form LIKE '%Republic%'))\n",
    "-- Order by inflation rate\n",
    "ORDER BY inflation_rate;"
   ]
  },
  {
   "cell_type": "markdown",
   "metadata": {},
   "source": [
    "# FINAL CHALLENGE"
   ]
  },
  {
   "cell_type": "code",
   "execution_count": null,
   "metadata": {},
   "outputs": [],
   "source": [
    "-- Select fields\n",
    "SELECT DISTINCT name, total_investment, imports\n",
    "  -- From table (with alias)\n",
    "  FROM countries AS c\n",
    "    -- Join with table (with alias)\n",
    "    LEFT JOIN economies AS e\n",
    "      -- Match on code\n",
    "      ON (c.code = e.code\n",
    "        -- and code in Subquery\n",
    "        AND c.code IN (\n",
    "          SELECT l.code\n",
    "          FROM languages AS l\n",
    "          WHERE official = 'true'\n",
    "        ) )\n",
    "  -- Where region and year are correct\n",
    "  WHERE region = 'Central America' AND year = 2015\n",
    "-- Order by field\n",
    "ORDER BY name;"
   ]
  },
  {
   "cell_type": "code",
   "execution_count": null,
   "metadata": {},
   "outputs": [],
   "source": [
    "# Let's ease up a bit and calculate the average fertility rate for each region in 2015.\n",
    "-- Select fields\n",
    "SELECT region, continent, avg(fertility_rate) AS avg_fert_rate\n",
    "  -- From left table\n",
    "  FROM countries AS c\n",
    "    -- Join to right table\n",
    "    INNER JOIN populations AS p\n",
    "      -- Match on join condition\n",
    "      ON c.code = p.country_code\n",
    "  -- Where specific records matching some condition\n",
    "  WHERE year = 2015\n",
    "-- Group appropriately\n",
    "GROUP BY region, continent\n",
    "-- Order appropriately\n",
    "ORDER BY avg_fert_rate;"
   ]
  },
  {
   "cell_type": "code",
   "execution_count": null,
   "metadata": {},
   "outputs": [],
   "source": [
    "# You are now tasked with determining the top 10 capital cities in Europe and the Americas in terms of a calculated percentage\n",
    "#using city_proper_pop and metroarea_pop in cities.\n",
    "\n",
    "-- Select fields\n",
    "SELECT name, country_code, city_proper_pop, metroarea_pop,  \n",
    "      -- Calculate city_perc\n",
    "      city_proper_pop / metroarea_pop * 100 AS city_perc\n",
    "  -- From appropriate table\n",
    "  FROM cities\n",
    "  -- Where \n",
    "  WHERE name IN\n",
    "    -- Subquery\n",
    "    (SELECT capital\n",
    "     FROM countries\n",
    "     WHERE (continent = 'Europe'\n",
    "        OR continent LIKE '%America'))\n",
    "       AND metroarea_pop IS NOT NULL\n",
    "-- Order appropriately\n",
    "ORDER BY city_perc DESC\n",
    "-- Limit amount\n",
    "LIMIT 10;"
   ]
  }
 ],
 "metadata": {
  "kernelspec": {
   "display_name": "Python 3",
   "language": "python",
   "name": "python3"
  },
  "language_info": {
   "codemirror_mode": {
    "name": "ipython",
    "version": 3
   },
   "file_extension": ".py",
   "mimetype": "text/x-python",
   "name": "python",
   "nbconvert_exporter": "python",
   "pygments_lexer": "ipython3",
   "version": "3.8.5"
  }
 },
 "nbformat": 4,
 "nbformat_minor": 4
}
