{
  "nbformat": 4,
  "nbformat_minor": 0,
  "metadata": {
    "colab": {
      "name": "predicting employees churn in",
      "provenance": [],
      "authorship_tag": "ABX9TyOs3598jiSHNGhxgO1pXntU",
      "include_colab_link": true
    },
    "kernelspec": {
      "name": "python3",
      "display_name": "Python 3"
    },
    "language_info": {
      "name": "python"
    }
  },
  "cells": [
    {
      "cell_type": "markdown",
      "metadata": {
        "id": "view-in-github",
        "colab_type": "text"
      },
      "source": [
        "<a href=\"https://colab.research.google.com/github/istrefii/DATA-SCIENCE-NOTES/blob/main/predicting_employees_churn_in.ipynb\" target=\"_parent\"><img src=\"https://colab.research.google.com/assets/colab-badge.svg\" alt=\"Open In Colab\"/></a>"
      ]
    },
    {
      "cell_type": "code",
      "execution_count": null,
      "metadata": {
        "id": "FLBSfDcHllMC"
      },
      "outputs": [],
      "source": [
        "from keras.model import Sequential \n",
        "from keras.layers import Dense\n",
        "\n",
        "model= Sequential()\n",
        "model.add(Dense(100, input_dim=scaled_train_features.shape[1]), activation='relu')\n",
        "model.add(Dense(20, activation= 'relu'))\n",
        "model.add(Dense(1, activation='linear'))\n",
        "\n",
        "model.compile(optimizer='adam', loss='mse')\n",
        "history= model.fit(scaled_train, y_train, epochs=25)"
      ]
    },
    {
      "cell_type": "code",
      "source": [
        "df= 'https://assets.datacamp.com/production/repositories/1765/datasets/ae888d00f9b36dd7d50a4afbc112761e2db766d2/turnover.csv'\n",
        "import pandas as pd\n",
        "\n",
        "#read and save it in data\n",
        "data= pd.read_csv(df)\n",
        "\n",
        "#take look at first 5 rows\n",
        "print(data.head())\n",
        "\n",
        "# get some info\n",
        "data.info()"
      ],
      "metadata": {
        "colab": {
          "base_uri": "https://localhost:8080/"
        },
        "id": "k-zKBhtQmqWp",
        "outputId": "ca2b9508-f948-4159-99db-9a9275921e51"
      },
      "execution_count": null,
      "outputs": [
        {
          "output_type": "stream",
          "name": "stdout",
          "text": [
            "   satisfaction  evaluation  number_of_projects  average_montly_hours  \\\n",
            "0          0.38        0.53                   2                   157   \n",
            "1          0.80        0.86                   5                   262   \n",
            "2          0.11        0.88                   7                   272   \n",
            "3          0.72        0.87                   5                   223   \n",
            "4          0.37        0.52                   2                   159   \n",
            "\n",
            "   time_spend_company  work_accident  churn  promotion department  salary  \n",
            "0                   3              0      1          0      sales     low  \n",
            "1                   6              0      1          0      sales  medium  \n",
            "2                   4              0      1          0      sales  medium  \n",
            "3                   5              0      1          0      sales     low  \n",
            "4                   3              0      1          0      sales     low  \n",
            "<class 'pandas.core.frame.DataFrame'>\n",
            "RangeIndex: 14999 entries, 0 to 14998\n",
            "Data columns (total 10 columns):\n",
            " #   Column                Non-Null Count  Dtype  \n",
            "---  ------                --------------  -----  \n",
            " 0   satisfaction          14999 non-null  float64\n",
            " 1   evaluation            14999 non-null  float64\n",
            " 2   number_of_projects    14999 non-null  int64  \n",
            " 3   average_montly_hours  14999 non-null  int64  \n",
            " 4   time_spend_company    14999 non-null  int64  \n",
            " 5   work_accident         14999 non-null  int64  \n",
            " 6   churn                 14999 non-null  int64  \n",
            " 7   promotion             14999 non-null  int64  \n",
            " 8   department            14999 non-null  object \n",
            " 9   salary                14999 non-null  object \n",
            "dtypes: float64(2), int64(6), object(2)\n",
            "memory usage: 1.1+ MB\n"
          ]
        }
      ]
    },
    {
      "cell_type": "code",
      "source": [
        "# Import pandas (as pd) to read the data\n",
        "import pandas as pd\n",
        "\n",
        "# Read \"turnover.csv\" file and save it in a DataFrame called data\n",
        "data = pd.read_csv(df)\n",
        "\n",
        "# Print the unique values of the \"department\" column\n",
        "print(data.department.unique())\n",
        "\n",
        "# Print the unique values of the \"salary\" column\n",
        "print(data.salary.unique())"
      ],
      "metadata": {
        "colab": {
          "base_uri": "https://localhost:8080/"
        },
        "id": "mFtpczGdm_XJ",
        "outputId": "ecbe239a-c5c4-49a4-b95f-263bce00b0f0"
      },
      "execution_count": null,
      "outputs": [
        {
          "output_type": "stream",
          "name": "stdout",
          "text": [
            "['sales' 'accounting' 'hr' 'technical' 'support' 'management' 'IT'\n",
            " 'product_mng' 'marketing' 'RandD']\n",
            "['low' 'medium' 'high']\n"
          ]
        }
      ]
    },
    {
      "cell_type": "code",
      "source": [
        "# chane type of salary to cateogrical\n",
        "data.salary= data.salary.astype('category')\n",
        "\n",
        "#provide correct order of categories\n",
        "data.salary= data.salary.cat.reorder_categories(['low', 'medium', 'high'])\n",
        "\n",
        "# encode categories\n",
        "data.salary= data.salary.cat.codes"
      ],
      "metadata": {
        "id": "UqbvQLOlnekO"
      },
      "execution_count": null,
      "outputs": []
    },
    {
      "cell_type": "code",
      "source": [
        "# get dummies and save them inside dataframe\n",
        "departments= pd.get_dummies(data.department)\n",
        "\n",
        "# took a look at forst 5 columns\n",
        "departments.head()"
      ],
      "metadata": {
        "colab": {
          "base_uri": "https://localhost:8080/",
          "height": 204
        },
        "id": "C82livwAnpzl",
        "outputId": "b45155c5-235a-4ee3-9751-5e08b32d5916"
      },
      "execution_count": null,
      "outputs": [
        {
          "output_type": "execute_result",
          "data": {
            "text/plain": [
              "   IT  RandD  accounting  hr  management  marketing  product_mng  sales  \\\n",
              "0   0      0           0   0           0          0            0      1   \n",
              "1   0      0           0   0           0          0            0      1   \n",
              "2   0      0           0   0           0          0            0      1   \n",
              "3   0      0           0   0           0          0            0      1   \n",
              "4   0      0           0   0           0          0            0      1   \n",
              "\n",
              "   support  technical  \n",
              "0        0          0  \n",
              "1        0          0  \n",
              "2        0          0  \n",
              "3        0          0  \n",
              "4        0          0  "
            ],
            "text/html": [
              "\n",
              "  <div id=\"df-85465cdf-f1fe-453f-a445-42d9867a1560\">\n",
              "    <div class=\"colab-df-container\">\n",
              "      <div>\n",
              "<style scoped>\n",
              "    .dataframe tbody tr th:only-of-type {\n",
              "        vertical-align: middle;\n",
              "    }\n",
              "\n",
              "    .dataframe tbody tr th {\n",
              "        vertical-align: top;\n",
              "    }\n",
              "\n",
              "    .dataframe thead th {\n",
              "        text-align: right;\n",
              "    }\n",
              "</style>\n",
              "<table border=\"1\" class=\"dataframe\">\n",
              "  <thead>\n",
              "    <tr style=\"text-align: right;\">\n",
              "      <th></th>\n",
              "      <th>IT</th>\n",
              "      <th>RandD</th>\n",
              "      <th>accounting</th>\n",
              "      <th>hr</th>\n",
              "      <th>management</th>\n",
              "      <th>marketing</th>\n",
              "      <th>product_mng</th>\n",
              "      <th>sales</th>\n",
              "      <th>support</th>\n",
              "      <th>technical</th>\n",
              "    </tr>\n",
              "  </thead>\n",
              "  <tbody>\n",
              "    <tr>\n",
              "      <th>0</th>\n",
              "      <td>0</td>\n",
              "      <td>0</td>\n",
              "      <td>0</td>\n",
              "      <td>0</td>\n",
              "      <td>0</td>\n",
              "      <td>0</td>\n",
              "      <td>0</td>\n",
              "      <td>1</td>\n",
              "      <td>0</td>\n",
              "      <td>0</td>\n",
              "    </tr>\n",
              "    <tr>\n",
              "      <th>1</th>\n",
              "      <td>0</td>\n",
              "      <td>0</td>\n",
              "      <td>0</td>\n",
              "      <td>0</td>\n",
              "      <td>0</td>\n",
              "      <td>0</td>\n",
              "      <td>0</td>\n",
              "      <td>1</td>\n",
              "      <td>0</td>\n",
              "      <td>0</td>\n",
              "    </tr>\n",
              "    <tr>\n",
              "      <th>2</th>\n",
              "      <td>0</td>\n",
              "      <td>0</td>\n",
              "      <td>0</td>\n",
              "      <td>0</td>\n",
              "      <td>0</td>\n",
              "      <td>0</td>\n",
              "      <td>0</td>\n",
              "      <td>1</td>\n",
              "      <td>0</td>\n",
              "      <td>0</td>\n",
              "    </tr>\n",
              "    <tr>\n",
              "      <th>3</th>\n",
              "      <td>0</td>\n",
              "      <td>0</td>\n",
              "      <td>0</td>\n",
              "      <td>0</td>\n",
              "      <td>0</td>\n",
              "      <td>0</td>\n",
              "      <td>0</td>\n",
              "      <td>1</td>\n",
              "      <td>0</td>\n",
              "      <td>0</td>\n",
              "    </tr>\n",
              "    <tr>\n",
              "      <th>4</th>\n",
              "      <td>0</td>\n",
              "      <td>0</td>\n",
              "      <td>0</td>\n",
              "      <td>0</td>\n",
              "      <td>0</td>\n",
              "      <td>0</td>\n",
              "      <td>0</td>\n",
              "      <td>1</td>\n",
              "      <td>0</td>\n",
              "      <td>0</td>\n",
              "    </tr>\n",
              "  </tbody>\n",
              "</table>\n",
              "</div>\n",
              "      <button class=\"colab-df-convert\" onclick=\"convertToInteractive('df-85465cdf-f1fe-453f-a445-42d9867a1560')\"\n",
              "              title=\"Convert this dataframe to an interactive table.\"\n",
              "              style=\"display:none;\">\n",
              "        \n",
              "  <svg xmlns=\"http://www.w3.org/2000/svg\" height=\"24px\"viewBox=\"0 0 24 24\"\n",
              "       width=\"24px\">\n",
              "    <path d=\"M0 0h24v24H0V0z\" fill=\"none\"/>\n",
              "    <path d=\"M18.56 5.44l.94 2.06.94-2.06 2.06-.94-2.06-.94-.94-2.06-.94 2.06-2.06.94zm-11 1L8.5 8.5l.94-2.06 2.06-.94-2.06-.94L8.5 2.5l-.94 2.06-2.06.94zm10 10l.94 2.06.94-2.06 2.06-.94-2.06-.94-.94-2.06-.94 2.06-2.06.94z\"/><path d=\"M17.41 7.96l-1.37-1.37c-.4-.4-.92-.59-1.43-.59-.52 0-1.04.2-1.43.59L10.3 9.45l-7.72 7.72c-.78.78-.78 2.05 0 2.83L4 21.41c.39.39.9.59 1.41.59.51 0 1.02-.2 1.41-.59l7.78-7.78 2.81-2.81c.8-.78.8-2.07 0-2.86zM5.41 20L4 18.59l7.72-7.72 1.47 1.35L5.41 20z\"/>\n",
              "  </svg>\n",
              "      </button>\n",
              "      \n",
              "  <style>\n",
              "    .colab-df-container {\n",
              "      display:flex;\n",
              "      flex-wrap:wrap;\n",
              "      gap: 12px;\n",
              "    }\n",
              "\n",
              "    .colab-df-convert {\n",
              "      background-color: #E8F0FE;\n",
              "      border: none;\n",
              "      border-radius: 50%;\n",
              "      cursor: pointer;\n",
              "      display: none;\n",
              "      fill: #1967D2;\n",
              "      height: 32px;\n",
              "      padding: 0 0 0 0;\n",
              "      width: 32px;\n",
              "    }\n",
              "\n",
              "    .colab-df-convert:hover {\n",
              "      background-color: #E2EBFA;\n",
              "      box-shadow: 0px 1px 2px rgba(60, 64, 67, 0.3), 0px 1px 3px 1px rgba(60, 64, 67, 0.15);\n",
              "      fill: #174EA6;\n",
              "    }\n",
              "\n",
              "    [theme=dark] .colab-df-convert {\n",
              "      background-color: #3B4455;\n",
              "      fill: #D2E3FC;\n",
              "    }\n",
              "\n",
              "    [theme=dark] .colab-df-convert:hover {\n",
              "      background-color: #434B5C;\n",
              "      box-shadow: 0px 1px 3px 1px rgba(0, 0, 0, 0.15);\n",
              "      filter: drop-shadow(0px 1px 2px rgba(0, 0, 0, 0.3));\n",
              "      fill: #FFFFFF;\n",
              "    }\n",
              "  </style>\n",
              "\n",
              "      <script>\n",
              "        const buttonEl =\n",
              "          document.querySelector('#df-85465cdf-f1fe-453f-a445-42d9867a1560 button.colab-df-convert');\n",
              "        buttonEl.style.display =\n",
              "          google.colab.kernel.accessAllowed ? 'block' : 'none';\n",
              "\n",
              "        async function convertToInteractive(key) {\n",
              "          const element = document.querySelector('#df-85465cdf-f1fe-453f-a445-42d9867a1560');\n",
              "          const dataTable =\n",
              "            await google.colab.kernel.invokeFunction('convertToInteractive',\n",
              "                                                     [key], {});\n",
              "          if (!dataTable) return;\n",
              "\n",
              "          const docLinkHtml = 'Like what you see? Visit the ' +\n",
              "            '<a target=\"_blank\" href=https://colab.research.google.com/notebooks/data_table.ipynb>data table notebook</a>'\n",
              "            + ' to learn more about interactive tables.';\n",
              "          element.innerHTML = '';\n",
              "          dataTable['output_type'] = 'display_data';\n",
              "          await google.colab.output.renderOutput(dataTable, element);\n",
              "          const docLink = document.createElement('div');\n",
              "          docLink.innerHTML = docLinkHtml;\n",
              "          element.appendChild(docLink);\n",
              "        }\n",
              "      </script>\n",
              "    </div>\n",
              "  </div>\n",
              "  "
            ]
          },
          "metadata": {},
          "execution_count": 11
        }
      ]
    },
    {
      "cell_type": "code",
      "source": [
        "# drop accounting column to avoid dummy trap\n",
        "departments= departments.drop('accounting', axis=1)\n",
        "\n",
        "# drop old column departmenmt as we dont need it anymore\n",
        "data= data.drop('department', axis=1)\n",
        "\n",
        "# join new dataframe\n",
        "data= data.join(departments)"
      ],
      "metadata": {
        "id": "uUJlHqZXoHfk"
      },
      "execution_count": null,
      "outputs": []
    },
    {
      "cell_type": "code",
      "source": [
        "data.head()"
      ],
      "metadata": {
        "colab": {
          "base_uri": "https://localhost:8080/",
          "height": 204
        },
        "id": "b8NvIZfzoy9b",
        "outputId": "d337efac-e327-484a-d5b3-f70ca4afb274"
      },
      "execution_count": null,
      "outputs": [
        {
          "output_type": "execute_result",
          "data": {
            "text/plain": [
              "   satisfaction  evaluation  number_of_projects  average_montly_hours  \\\n",
              "0          0.38        0.53                   2                   157   \n",
              "1          0.80        0.86                   5                   262   \n",
              "2          0.11        0.88                   7                   272   \n",
              "3          0.72        0.87                   5                   223   \n",
              "4          0.37        0.52                   2                   159   \n",
              "\n",
              "   time_spend_company  work_accident  churn  promotion  salary  IT  RandD  hr  \\\n",
              "0                   3              0      1          0       0   0      0   0   \n",
              "1                   6              0      1          0       1   0      0   0   \n",
              "2                   4              0      1          0       1   0      0   0   \n",
              "3                   5              0      1          0       0   0      0   0   \n",
              "4                   3              0      1          0       0   0      0   0   \n",
              "\n",
              "   management  marketing  product_mng  sales  support  technical  \n",
              "0           0          0            0      1        0          0  \n",
              "1           0          0            0      1        0          0  \n",
              "2           0          0            0      1        0          0  \n",
              "3           0          0            0      1        0          0  \n",
              "4           0          0            0      1        0          0  "
            ],
            "text/html": [
              "\n",
              "  <div id=\"df-b85efe0c-381f-46eb-9139-f0781e7b3441\">\n",
              "    <div class=\"colab-df-container\">\n",
              "      <div>\n",
              "<style scoped>\n",
              "    .dataframe tbody tr th:only-of-type {\n",
              "        vertical-align: middle;\n",
              "    }\n",
              "\n",
              "    .dataframe tbody tr th {\n",
              "        vertical-align: top;\n",
              "    }\n",
              "\n",
              "    .dataframe thead th {\n",
              "        text-align: right;\n",
              "    }\n",
              "</style>\n",
              "<table border=\"1\" class=\"dataframe\">\n",
              "  <thead>\n",
              "    <tr style=\"text-align: right;\">\n",
              "      <th></th>\n",
              "      <th>satisfaction</th>\n",
              "      <th>evaluation</th>\n",
              "      <th>number_of_projects</th>\n",
              "      <th>average_montly_hours</th>\n",
              "      <th>time_spend_company</th>\n",
              "      <th>work_accident</th>\n",
              "      <th>churn</th>\n",
              "      <th>promotion</th>\n",
              "      <th>salary</th>\n",
              "      <th>IT</th>\n",
              "      <th>RandD</th>\n",
              "      <th>hr</th>\n",
              "      <th>management</th>\n",
              "      <th>marketing</th>\n",
              "      <th>product_mng</th>\n",
              "      <th>sales</th>\n",
              "      <th>support</th>\n",
              "      <th>technical</th>\n",
              "    </tr>\n",
              "  </thead>\n",
              "  <tbody>\n",
              "    <tr>\n",
              "      <th>0</th>\n",
              "      <td>0.38</td>\n",
              "      <td>0.53</td>\n",
              "      <td>2</td>\n",
              "      <td>157</td>\n",
              "      <td>3</td>\n",
              "      <td>0</td>\n",
              "      <td>1</td>\n",
              "      <td>0</td>\n",
              "      <td>0</td>\n",
              "      <td>0</td>\n",
              "      <td>0</td>\n",
              "      <td>0</td>\n",
              "      <td>0</td>\n",
              "      <td>0</td>\n",
              "      <td>0</td>\n",
              "      <td>1</td>\n",
              "      <td>0</td>\n",
              "      <td>0</td>\n",
              "    </tr>\n",
              "    <tr>\n",
              "      <th>1</th>\n",
              "      <td>0.80</td>\n",
              "      <td>0.86</td>\n",
              "      <td>5</td>\n",
              "      <td>262</td>\n",
              "      <td>6</td>\n",
              "      <td>0</td>\n",
              "      <td>1</td>\n",
              "      <td>0</td>\n",
              "      <td>1</td>\n",
              "      <td>0</td>\n",
              "      <td>0</td>\n",
              "      <td>0</td>\n",
              "      <td>0</td>\n",
              "      <td>0</td>\n",
              "      <td>0</td>\n",
              "      <td>1</td>\n",
              "      <td>0</td>\n",
              "      <td>0</td>\n",
              "    </tr>\n",
              "    <tr>\n",
              "      <th>2</th>\n",
              "      <td>0.11</td>\n",
              "      <td>0.88</td>\n",
              "      <td>7</td>\n",
              "      <td>272</td>\n",
              "      <td>4</td>\n",
              "      <td>0</td>\n",
              "      <td>1</td>\n",
              "      <td>0</td>\n",
              "      <td>1</td>\n",
              "      <td>0</td>\n",
              "      <td>0</td>\n",
              "      <td>0</td>\n",
              "      <td>0</td>\n",
              "      <td>0</td>\n",
              "      <td>0</td>\n",
              "      <td>1</td>\n",
              "      <td>0</td>\n",
              "      <td>0</td>\n",
              "    </tr>\n",
              "    <tr>\n",
              "      <th>3</th>\n",
              "      <td>0.72</td>\n",
              "      <td>0.87</td>\n",
              "      <td>5</td>\n",
              "      <td>223</td>\n",
              "      <td>5</td>\n",
              "      <td>0</td>\n",
              "      <td>1</td>\n",
              "      <td>0</td>\n",
              "      <td>0</td>\n",
              "      <td>0</td>\n",
              "      <td>0</td>\n",
              "      <td>0</td>\n",
              "      <td>0</td>\n",
              "      <td>0</td>\n",
              "      <td>0</td>\n",
              "      <td>1</td>\n",
              "      <td>0</td>\n",
              "      <td>0</td>\n",
              "    </tr>\n",
              "    <tr>\n",
              "      <th>4</th>\n",
              "      <td>0.37</td>\n",
              "      <td>0.52</td>\n",
              "      <td>2</td>\n",
              "      <td>159</td>\n",
              "      <td>3</td>\n",
              "      <td>0</td>\n",
              "      <td>1</td>\n",
              "      <td>0</td>\n",
              "      <td>0</td>\n",
              "      <td>0</td>\n",
              "      <td>0</td>\n",
              "      <td>0</td>\n",
              "      <td>0</td>\n",
              "      <td>0</td>\n",
              "      <td>0</td>\n",
              "      <td>1</td>\n",
              "      <td>0</td>\n",
              "      <td>0</td>\n",
              "    </tr>\n",
              "  </tbody>\n",
              "</table>\n",
              "</div>\n",
              "      <button class=\"colab-df-convert\" onclick=\"convertToInteractive('df-b85efe0c-381f-46eb-9139-f0781e7b3441')\"\n",
              "              title=\"Convert this dataframe to an interactive table.\"\n",
              "              style=\"display:none;\">\n",
              "        \n",
              "  <svg xmlns=\"http://www.w3.org/2000/svg\" height=\"24px\"viewBox=\"0 0 24 24\"\n",
              "       width=\"24px\">\n",
              "    <path d=\"M0 0h24v24H0V0z\" fill=\"none\"/>\n",
              "    <path d=\"M18.56 5.44l.94 2.06.94-2.06 2.06-.94-2.06-.94-.94-2.06-.94 2.06-2.06.94zm-11 1L8.5 8.5l.94-2.06 2.06-.94-2.06-.94L8.5 2.5l-.94 2.06-2.06.94zm10 10l.94 2.06.94-2.06 2.06-.94-2.06-.94-.94-2.06-.94 2.06-2.06.94z\"/><path d=\"M17.41 7.96l-1.37-1.37c-.4-.4-.92-.59-1.43-.59-.52 0-1.04.2-1.43.59L10.3 9.45l-7.72 7.72c-.78.78-.78 2.05 0 2.83L4 21.41c.39.39.9.59 1.41.59.51 0 1.02-.2 1.41-.59l7.78-7.78 2.81-2.81c.8-.78.8-2.07 0-2.86zM5.41 20L4 18.59l7.72-7.72 1.47 1.35L5.41 20z\"/>\n",
              "  </svg>\n",
              "      </button>\n",
              "      \n",
              "  <style>\n",
              "    .colab-df-container {\n",
              "      display:flex;\n",
              "      flex-wrap:wrap;\n",
              "      gap: 12px;\n",
              "    }\n",
              "\n",
              "    .colab-df-convert {\n",
              "      background-color: #E8F0FE;\n",
              "      border: none;\n",
              "      border-radius: 50%;\n",
              "      cursor: pointer;\n",
              "      display: none;\n",
              "      fill: #1967D2;\n",
              "      height: 32px;\n",
              "      padding: 0 0 0 0;\n",
              "      width: 32px;\n",
              "    }\n",
              "\n",
              "    .colab-df-convert:hover {\n",
              "      background-color: #E2EBFA;\n",
              "      box-shadow: 0px 1px 2px rgba(60, 64, 67, 0.3), 0px 1px 3px 1px rgba(60, 64, 67, 0.15);\n",
              "      fill: #174EA6;\n",
              "    }\n",
              "\n",
              "    [theme=dark] .colab-df-convert {\n",
              "      background-color: #3B4455;\n",
              "      fill: #D2E3FC;\n",
              "    }\n",
              "\n",
              "    [theme=dark] .colab-df-convert:hover {\n",
              "      background-color: #434B5C;\n",
              "      box-shadow: 0px 1px 3px 1px rgba(0, 0, 0, 0.15);\n",
              "      filter: drop-shadow(0px 1px 2px rgba(0, 0, 0, 0.3));\n",
              "      fill: #FFFFFF;\n",
              "    }\n",
              "  </style>\n",
              "\n",
              "      <script>\n",
              "        const buttonEl =\n",
              "          document.querySelector('#df-b85efe0c-381f-46eb-9139-f0781e7b3441 button.colab-df-convert');\n",
              "        buttonEl.style.display =\n",
              "          google.colab.kernel.accessAllowed ? 'block' : 'none';\n",
              "\n",
              "        async function convertToInteractive(key) {\n",
              "          const element = document.querySelector('#df-b85efe0c-381f-46eb-9139-f0781e7b3441');\n",
              "          const dataTable =\n",
              "            await google.colab.kernel.invokeFunction('convertToInteractive',\n",
              "                                                     [key], {});\n",
              "          if (!dataTable) return;\n",
              "\n",
              "          const docLinkHtml = 'Like what you see? Visit the ' +\n",
              "            '<a target=\"_blank\" href=https://colab.research.google.com/notebooks/data_table.ipynb>data table notebook</a>'\n",
              "            + ' to learn more about interactive tables.';\n",
              "          element.innerHTML = '';\n",
              "          dataTable['output_type'] = 'display_data';\n",
              "          await google.colab.output.renderOutput(dataTable, element);\n",
              "          const docLink = document.createElement('div');\n",
              "          docLink.innerHTML = docLinkHtml;\n",
              "          element.appendChild(docLink);\n",
              "        }\n",
              "      </script>\n",
              "    </div>\n",
              "  </div>\n",
              "  "
            ]
          },
          "metadata": {},
          "execution_count": 13
        }
      ]
    },
    {
      "cell_type": "code",
      "source": [
        "# use len() function to get the total number of observations and save it as the number of employees\n",
        "n_employees= len(data)\n",
        "\n",
        "# print number of employees who have left/stayed\n",
        "print(data.churn.value_counts())\n",
        "\n",
        "#print the % that have left/stayed\n",
        "print(data.churn.value_counts()/n_employees *100)\n",
        "\n",
        "# looks like 76% of employees have stayed"
      ],
      "metadata": {
        "colab": {
          "base_uri": "https://localhost:8080/"
        },
        "id": "1ifwOWz7o8G7",
        "outputId": "e0446fa0-9a39-4cea-b622-a7d8f6b429a3"
      },
      "execution_count": null,
      "outputs": [
        {
          "output_type": "stream",
          "name": "stdout",
          "text": [
            "0    11428\n",
            "1     3571\n",
            "Name: churn, dtype: int64\n",
            "0    76.191746\n",
            "1    23.808254\n",
            "Name: churn, dtype: float64\n"
          ]
        }
      ]
    },
    {
      "cell_type": "code",
      "source": [
        "# set the target and features\n",
        "\n",
        "target= data.churn\n",
        "\n",
        "features= data.drop('churn', axis=1)"
      ],
      "metadata": {
        "id": "eWXcvdaWpYdy"
      },
      "execution_count": null,
      "outputs": []
    },
    {
      "cell_type": "code",
      "source": [
        "# import function for train test split\n",
        "from sklearn.model_selection import train_test_split\n",
        "\n",
        "# use function to create splits both for target and for features\n",
        "# use 25% for test\n",
        "target_train, target_test, features_train, features_test= train_test_split(target, features, test_size=0.25, random_state=42)"
      ],
      "metadata": {
        "id": "Jn340P_MpvYB"
      },
      "execution_count": null,
      "outputs": []
    },
    {
      "cell_type": "code",
      "source": [
        "#num of people who stayed/left\n",
        "stayed= 37\n",
        "left = 1138\n",
        "\n",
        "#sum of stayed and left\n",
        "total= stayed + left\n",
        "\n",
        "#gini index\n",
        "gini= 2*(stayed/total) * (left/total)"
      ],
      "metadata": {
        "id": "pf1Pdt1nqW_S"
      },
      "execution_count": null,
      "outputs": []
    },
    {
      "cell_type": "code",
      "source": [
        "# Gini index in case of splitting by variable A or B\n",
        "gini_A = 0.65\n",
        "gini_B = 0.15\n",
        "\n",
        "# check which Gini is lower and use it for spliting\n",
        "if gini_A < gini_B:   \n",
        "    print(\"split by A!\")\n",
        "else:\n",
        "    print(\"split by B!\")"
      ],
      "metadata": {
        "colab": {
          "base_uri": "https://localhost:8080/"
        },
        "id": "6QQvF2oGqrtQ",
        "outputId": "69050c38-aa43-454d-f8bb-7b66b4eee51c"
      },
      "execution_count": null,
      "outputs": [
        {
          "output_type": "stream",
          "name": "stdout",
          "text": [
            "split by B!\n"
          ]
        }
      ]
    },
    {
      "cell_type": "code",
      "source": [
        "# import classfication algorithm\n",
        "from sklearn.tree import DecisionTreeClassifier\n",
        "\n",
        "# Initialize it and call model by random_state parameter\n",
        "model= DecisionTreeClassifier(random_state=42)\n",
        "\n",
        "# apply decision tree model to fit features\n",
        "model.fit(features_train, target_train)"
      ],
      "metadata": {
        "colab": {
          "base_uri": "https://localhost:8080/"
        },
        "id": "BjSkJyDnq1Ob",
        "outputId": "0c6b8473-24c2-4954-8b88-418bc2b167f3"
      },
      "execution_count": 39,
      "outputs": [
        {
          "output_type": "execute_result",
          "data": {
            "text/plain": [
              "DecisionTreeClassifier(random_state=42)"
            ]
          },
          "metadata": {},
          "execution_count": 39
        }
      ]
    },
    {
      "cell_type": "code",
      "source": [
        "# check accuracy score of train\n",
        "print(model.score(features_train, target_train))\n",
        "\n",
        "#check score of test\n",
        "print(model.score(features_test, target_test))"
      ],
      "metadata": {
        "colab": {
          "base_uri": "https://localhost:8080/"
        },
        "id": "EYnqoEjBq1QK",
        "outputId": "68fff7e1-ee5e-402e-d844-224721420ba3"
      },
      "execution_count": null,
      "outputs": [
        {
          "output_type": "stream",
          "name": "stdout",
          "text": [
            "1.0\n",
            "0.9722666666666666\n"
          ]
        }
      ]
    },
    {
      "cell_type": "code",
      "source": [
        "#import graphical visulation export function\n",
        "from sklearn.tree import export_graphviz\n",
        "\n",
        "# Apply decision tree model to fit features to target\n",
        "model.fit(features_train, target_train)\n",
        "\n",
        "# export tree to dot file\n",
        "export_graphviz(model, 'tree.dot')"
      ],
      "metadata": {
        "id": "ISyTolTfrjDv"
      },
      "execution_count": null,
      "outputs": []
    },
    {
      "cell_type": "code",
      "source": [
        "# initialize Decisiontreeclassifer wher limiting depth of tree to 5\n",
        "model_depth_5= DecisionTreeClassifier(max_depth=5, random_state=42)\n",
        "\n",
        "# fit model\n",
        "model_depth_5.fit(features_train, target_train)\n",
        "\n",
        "#score training \n",
        "print(model_depth_5.score(features_train, target_train))\n",
        "\n",
        "# score\n",
        "print(model_depth_5.score(features_test, target_test))\n"
      ],
      "metadata": {
        "colab": {
          "base_uri": "https://localhost:8080/"
        },
        "id": "3BIF0qZZs270",
        "outputId": "adfc0c3e-216f-4a8b-f29c-d9ba8f1961c1"
      },
      "execution_count": null,
      "outputs": [
        {
          "output_type": "stream",
          "name": "stdout",
          "text": [
            "0.9771535247577563\n",
            "0.9706666666666667\n"
          ]
        }
      ]
    },
    {
      "cell_type": "code",
      "source": [
        "# initialize DTC with limithing sample size in leaves to 100\n",
        "model_sample_100= DecisionTreeClassifier(min_samples_leaf=100, random_state=42)\n",
        "\n",
        "# fit model \n",
        "model_sample_100.fit(features_train, target_train)\n",
        "\n",
        "#score train\n",
        "print(model_sample_100.score(features_train, target_train) *100)\n",
        "\n",
        "# score test\n",
        "print(model_sample_100.score(features_test, target_test)*100)"
      ],
      "metadata": {
        "id": "OyNU8gFVtcbd",
        "colab": {
          "base_uri": "https://localhost:8080/"
        },
        "outputId": "9b107b19-d101-42ca-b9bd-5cc427ed6aaf"
      },
      "execution_count": 28,
      "outputs": [
        {
          "output_type": "stream",
          "name": "stdout",
          "text": [
            "96.57747355320473\n",
            "96.13333333333334\n"
          ]
        }
      ]
    },
    {
      "cell_type": "code",
      "source": [
        "# precision =0.94, recall =0.97\n",
        "# 94% of predicitions are right"
      ],
      "metadata": {
        "colab": {
          "base_uri": "https://localhost:8080/",
          "height": 70
        },
        "id": "1-QlCLtDTz7o",
        "outputId": "a9ee1813-74ff-43bc-a15f-3e67b46a0da3"
      },
      "execution_count": 33,
      "outputs": [
        {
          "output_type": "execute_result",
          "data": {
            "text/plain": [
              "'              precision    recall  f1-score   support\\n\\n           0       0.97      0.98      0.97      2853\\n           1       0.93      0.91      0.92       897\\n\\n    accuracy                           0.96      3750\\n   macro avg       0.95      0.94      0.95      3750\\nweighted avg       0.96      0.96      0.96      3750\\n'"
            ],
            "application/vnd.google.colaboratory.intrinsic+json": {
              "type": "string"
            }
          },
          "metadata": {},
          "execution_count": 33
        }
      ]
    },
    {
      "cell_type": "code",
      "source": [
        "# import function to calculate precision score\n",
        "from sklearn.metrics import precision_score\n",
        "\n",
        "# prediciton whenther employees will church using test set\n",
        "prediction= model.predict(features_test)\n",
        "\n",
        "# calucate precision score by comparing target_test with prediction\n",
        "print(precision_score(target_test, prediction))\n"
      ],
      "metadata": {
        "colab": {
          "base_uri": "https://localhost:8080/"
        },
        "id": "6qdyLI3pUD6l",
        "outputId": "2e855fd6-72c0-4176-a3f8-6966f71a4ae7"
      },
      "execution_count": 41,
      "outputs": [
        {
          "output_type": "stream",
          "name": "stdout",
          "text": [
            "0.9240641711229947\n"
          ]
        }
      ]
    },
    {
      "cell_type": "code",
      "source": [
        "# import function. to calucate recall score\n",
        "from sklearn.metrics import recall_score\n",
        "\n",
        "# use model to predict church\n",
        "prediction= model.predict(features_test)\n",
        "\n",
        "# calucate recall score\n",
        "print(recall_score(target_test, prediction))"
      ],
      "metadata": {
        "colab": {
          "base_uri": "https://localhost:8080/"
        },
        "id": "aD6uCqm1U2Xw",
        "outputId": "e03efc53-b935-4873-e77c-90c79c75ccf2"
      },
      "execution_count": 45,
      "outputs": [
        {
          "output_type": "stream",
          "name": "stdout",
          "text": [
            "0.9632107023411371\n"
          ]
        }
      ]
    },
    {
      "cell_type": "code",
      "source": [
        "# Import the function to calculate ROC/AUC score\n",
        "from sklearn.metrics import roc_auc_score\n",
        "\n",
        "# Use initial model to predict churn (based on features_test)\n",
        "prediction = model.predict(features_test)\n",
        "\n",
        "# Calculate ROC/AUC score by comparing target_test with the prediction\n",
        "print(roc_auc_score(target_test, prediction))"
      ],
      "metadata": {
        "colab": {
          "base_uri": "https://localhost:8080/"
        },
        "id": "A2F8L1WPU2xG",
        "outputId": "ba6c49af-6605-4769-d989-68dc418f0f42"
      },
      "execution_count": 46,
      "outputs": [
        {
          "output_type": "stream",
          "name": "stdout",
          "text": [
            "0.9691623087590718\n"
          ]
        }
      ]
    },
    {
      "cell_type": "code",
      "source": [
        "# initialize decisionTreeclassifier\n",
        "model_depth_5_b= DecisionTreeClassifier(max_depth=5, class_weight='balanced', random_state=42)\n",
        "\n",
        "# fit model\n",
        "model_depth_5_b.fit(features_test, target_test)\n",
        "\n",
        "# print accuracy of predicition for test set\n",
        "print(model_depth_5_b.score(features_test, target_test))"
      ],
      "metadata": {
        "colab": {
          "base_uri": "https://localhost:8080/"
        },
        "id": "K_M87Hz1WXgb",
        "outputId": "f70ab181-c470-4aa0-b20d-51b131821ba0"
      },
      "execution_count": 47,
      "outputs": [
        {
          "output_type": "stream",
          "name": "stdout",
          "text": [
            "0.9322666666666667\n"
          ]
        }
      ]
    },
    {
      "cell_type": "code",
      "source": [
        "# Print the recall score\n",
        "print(recall_score(target_test,prediction))\n",
        "# Print the ROC/AUC score\n",
        "print(roc_auc_score(target_test,prediction))\n",
        "\n",
        "# Initialize the model\n",
        "model_depth_7_b = DecisionTreeClassifier(max_depth=7, class_weight='balanced', random_state=42)\n",
        "# Fit it to the training component\n",
        "model_depth_7_b.fit(features_train, target_train)\n",
        "# Make prediction using test component\n",
        "prediction_b = model_depth_7_b.predict(features_test)\n",
        "# Print the recall score for the balanced model\n",
        "print(recall_score(target_test, prediction_b))\n",
        "# Print the ROC/AUC score for the balanced model\n",
        "print(roc_auc_score(target_test, prediction_b))"
      ],
      "metadata": {
        "colab": {
          "base_uri": "https://localhost:8080/"
        },
        "id": "3-SUpR9rWz5v",
        "outputId": "590222b8-a0f7-4c7f-f7b5-071d50e2565e"
      },
      "execution_count": 48,
      "outputs": [
        {
          "output_type": "stream",
          "name": "stdout",
          "text": [
            "0.9632107023411371\n",
            "0.9691623087590718\n",
            "0.9319955406911928\n",
            "0.959863876199084\n"
          ]
        }
      ]
    },
    {
      "cell_type": "code",
      "source": [
        "# import function for cross validation\n",
        "from sklearn.model_selection import cross_val_score\n",
        "\n",
        "# using function to print the cross validation for 10 folds\n",
        "print(cross_val_score(model, features, target, cv=10))"
      ],
      "metadata": {
        "colab": {
          "base_uri": "https://localhost:8080/"
        },
        "id": "p676mjydmxo_",
        "outputId": "d6572e3a-42ea-4826-ebb9-23dce7689bf4"
      },
      "execution_count": 50,
      "outputs": [
        {
          "output_type": "stream",
          "name": "stdout",
          "text": [
            "[0.98533333 0.98533333 0.974      0.96533333 0.96       0.97933333\n",
            " 0.99       0.99333333 1.         1.        ]\n"
          ]
        }
      ]
    },
    {
      "cell_type": "code",
      "source": [
        "from inspect import Parameter\n",
        "# generate values for max depth\n",
        "depth= [i for i in range(5,21,1)]\n",
        "\n",
        "# generate values for min sample size\n",
        "samples= [i for i in range(50,500,50)]\n",
        "\n",
        "# create dictionary with paramters to be checked\n",
        "parameters= dict(max_depth= depth, min_samples_leaf= samples)\n",
        "parameters"
      ],
      "metadata": {
        "colab": {
          "base_uri": "https://localhost:8080/"
        },
        "id": "Nhlp5K_Nm-Ba",
        "outputId": "b00b458a-e39f-4cf9-b942-1a7ba5d84e69"
      },
      "execution_count": 51,
      "outputs": [
        {
          "output_type": "execute_result",
          "data": {
            "text/plain": [
              "{'max_depth': [5, 6, 7, 8, 9, 10, 11, 12, 13, 14, 15, 16, 17, 18, 19, 20],\n",
              " 'min_samples_leaf': [50, 100, 150, 200, 250, 300, 350, 400, 450]}"
            ]
          },
          "metadata": {},
          "execution_count": 51
        }
      ]
    },
    {
      "cell_type": "code",
      "source": [
        "from sklearn.model_selection import GridSearchCV\n",
        "\n",
        "# initialize the param_search function using GridSearchCV funciton, initial model and parameters above\n",
        "param_search = GridSearchCV(model, parameters)\n",
        "\n",
        "# fir param_search to training dataset\n",
        "param_search.fit(features_train, target_train)\n",
        "\n",
        "# print best parameters\n",
        "print(param_search.best_params_)\n",
        "\n",
        "model_best= DecisionTreeClassifier(max_depth=5, min_samples_leaf=50)"
      ],
      "metadata": {
        "colab": {
          "base_uri": "https://localhost:8080/"
        },
        "id": "tyWlLZOkno2h",
        "outputId": "f731f160-69c6-4cd6-cd12-1ec25b1fa961"
      },
      "execution_count": 57,
      "outputs": [
        {
          "output_type": "stream",
          "name": "stdout",
          "text": [
            "{'max_depth': 5, 'min_samples_leaf': 50}\n"
          ]
        }
      ]
    },
    {
      "cell_type": "code",
      "source": [
        "model_best.fit(features_train, target_train)\n",
        "\n",
        "# Calculate feature importances\n",
        "feature_importances = model_best.feature_importances_\n",
        "\n",
        "# Create a list of features: done\n",
        "feature_list = list(features)\n",
        "\n",
        "# Save the results inside a DataFrame using feature_list as an index\n",
        "relative_importances = pd.DataFrame(index=feature_list, data=feature_importances, columns=[\"importance\"])\n",
        "\n",
        "# Sort values to learn most important features\n",
        "relative_importances.sort_values(by=\"importance\", ascending=False)"
      ],
      "metadata": {
        "colab": {
          "base_uri": "https://localhost:8080/",
          "height": 582
        },
        "id": "am1NE34PoU9o",
        "outputId": "ed401104-5f89-4792-9bdb-c4130ff53f80"
      },
      "execution_count": 59,
      "outputs": [
        {
          "output_type": "execute_result",
          "data": {
            "text/plain": [
              "                      importance\n",
              "satisfaction            0.551529\n",
              "time_spend_company      0.157009\n",
              "evaluation              0.144354\n",
              "number_of_projects      0.092864\n",
              "average_montly_hours    0.053087\n",
              "technical               0.000631\n",
              "hr                      0.000295\n",
              "salary                  0.000231\n",
              "promotion               0.000000\n",
              "work_accident           0.000000\n",
              "RandD                   0.000000\n",
              "management              0.000000\n",
              "marketing               0.000000\n",
              "product_mng             0.000000\n",
              "sales                   0.000000\n",
              "support                 0.000000\n",
              "IT                      0.000000"
            ],
            "text/html": [
              "\n",
              "  <div id=\"df-1d8046b0-df98-4645-97fc-09f3929d3816\">\n",
              "    <div class=\"colab-df-container\">\n",
              "      <div>\n",
              "<style scoped>\n",
              "    .dataframe tbody tr th:only-of-type {\n",
              "        vertical-align: middle;\n",
              "    }\n",
              "\n",
              "    .dataframe tbody tr th {\n",
              "        vertical-align: top;\n",
              "    }\n",
              "\n",
              "    .dataframe thead th {\n",
              "        text-align: right;\n",
              "    }\n",
              "</style>\n",
              "<table border=\"1\" class=\"dataframe\">\n",
              "  <thead>\n",
              "    <tr style=\"text-align: right;\">\n",
              "      <th></th>\n",
              "      <th>importance</th>\n",
              "    </tr>\n",
              "  </thead>\n",
              "  <tbody>\n",
              "    <tr>\n",
              "      <th>satisfaction</th>\n",
              "      <td>0.551529</td>\n",
              "    </tr>\n",
              "    <tr>\n",
              "      <th>time_spend_company</th>\n",
              "      <td>0.157009</td>\n",
              "    </tr>\n",
              "    <tr>\n",
              "      <th>evaluation</th>\n",
              "      <td>0.144354</td>\n",
              "    </tr>\n",
              "    <tr>\n",
              "      <th>number_of_projects</th>\n",
              "      <td>0.092864</td>\n",
              "    </tr>\n",
              "    <tr>\n",
              "      <th>average_montly_hours</th>\n",
              "      <td>0.053087</td>\n",
              "    </tr>\n",
              "    <tr>\n",
              "      <th>technical</th>\n",
              "      <td>0.000631</td>\n",
              "    </tr>\n",
              "    <tr>\n",
              "      <th>hr</th>\n",
              "      <td>0.000295</td>\n",
              "    </tr>\n",
              "    <tr>\n",
              "      <th>salary</th>\n",
              "      <td>0.000231</td>\n",
              "    </tr>\n",
              "    <tr>\n",
              "      <th>promotion</th>\n",
              "      <td>0.000000</td>\n",
              "    </tr>\n",
              "    <tr>\n",
              "      <th>work_accident</th>\n",
              "      <td>0.000000</td>\n",
              "    </tr>\n",
              "    <tr>\n",
              "      <th>RandD</th>\n",
              "      <td>0.000000</td>\n",
              "    </tr>\n",
              "    <tr>\n",
              "      <th>management</th>\n",
              "      <td>0.000000</td>\n",
              "    </tr>\n",
              "    <tr>\n",
              "      <th>marketing</th>\n",
              "      <td>0.000000</td>\n",
              "    </tr>\n",
              "    <tr>\n",
              "      <th>product_mng</th>\n",
              "      <td>0.000000</td>\n",
              "    </tr>\n",
              "    <tr>\n",
              "      <th>sales</th>\n",
              "      <td>0.000000</td>\n",
              "    </tr>\n",
              "    <tr>\n",
              "      <th>support</th>\n",
              "      <td>0.000000</td>\n",
              "    </tr>\n",
              "    <tr>\n",
              "      <th>IT</th>\n",
              "      <td>0.000000</td>\n",
              "    </tr>\n",
              "  </tbody>\n",
              "</table>\n",
              "</div>\n",
              "      <button class=\"colab-df-convert\" onclick=\"convertToInteractive('df-1d8046b0-df98-4645-97fc-09f3929d3816')\"\n",
              "              title=\"Convert this dataframe to an interactive table.\"\n",
              "              style=\"display:none;\">\n",
              "        \n",
              "  <svg xmlns=\"http://www.w3.org/2000/svg\" height=\"24px\"viewBox=\"0 0 24 24\"\n",
              "       width=\"24px\">\n",
              "    <path d=\"M0 0h24v24H0V0z\" fill=\"none\"/>\n",
              "    <path d=\"M18.56 5.44l.94 2.06.94-2.06 2.06-.94-2.06-.94-.94-2.06-.94 2.06-2.06.94zm-11 1L8.5 8.5l.94-2.06 2.06-.94-2.06-.94L8.5 2.5l-.94 2.06-2.06.94zm10 10l.94 2.06.94-2.06 2.06-.94-2.06-.94-.94-2.06-.94 2.06-2.06.94z\"/><path d=\"M17.41 7.96l-1.37-1.37c-.4-.4-.92-.59-1.43-.59-.52 0-1.04.2-1.43.59L10.3 9.45l-7.72 7.72c-.78.78-.78 2.05 0 2.83L4 21.41c.39.39.9.59 1.41.59.51 0 1.02-.2 1.41-.59l7.78-7.78 2.81-2.81c.8-.78.8-2.07 0-2.86zM5.41 20L4 18.59l7.72-7.72 1.47 1.35L5.41 20z\"/>\n",
              "  </svg>\n",
              "      </button>\n",
              "      \n",
              "  <style>\n",
              "    .colab-df-container {\n",
              "      display:flex;\n",
              "      flex-wrap:wrap;\n",
              "      gap: 12px;\n",
              "    }\n",
              "\n",
              "    .colab-df-convert {\n",
              "      background-color: #E8F0FE;\n",
              "      border: none;\n",
              "      border-radius: 50%;\n",
              "      cursor: pointer;\n",
              "      display: none;\n",
              "      fill: #1967D2;\n",
              "      height: 32px;\n",
              "      padding: 0 0 0 0;\n",
              "      width: 32px;\n",
              "    }\n",
              "\n",
              "    .colab-df-convert:hover {\n",
              "      background-color: #E2EBFA;\n",
              "      box-shadow: 0px 1px 2px rgba(60, 64, 67, 0.3), 0px 1px 3px 1px rgba(60, 64, 67, 0.15);\n",
              "      fill: #174EA6;\n",
              "    }\n",
              "\n",
              "    [theme=dark] .colab-df-convert {\n",
              "      background-color: #3B4455;\n",
              "      fill: #D2E3FC;\n",
              "    }\n",
              "\n",
              "    [theme=dark] .colab-df-convert:hover {\n",
              "      background-color: #434B5C;\n",
              "      box-shadow: 0px 1px 3px 1px rgba(0, 0, 0, 0.15);\n",
              "      filter: drop-shadow(0px 1px 2px rgba(0, 0, 0, 0.3));\n",
              "      fill: #FFFFFF;\n",
              "    }\n",
              "  </style>\n",
              "\n",
              "      <script>\n",
              "        const buttonEl =\n",
              "          document.querySelector('#df-1d8046b0-df98-4645-97fc-09f3929d3816 button.colab-df-convert');\n",
              "        buttonEl.style.display =\n",
              "          google.colab.kernel.accessAllowed ? 'block' : 'none';\n",
              "\n",
              "        async function convertToInteractive(key) {\n",
              "          const element = document.querySelector('#df-1d8046b0-df98-4645-97fc-09f3929d3816');\n",
              "          const dataTable =\n",
              "            await google.colab.kernel.invokeFunction('convertToInteractive',\n",
              "                                                     [key], {});\n",
              "          if (!dataTable) return;\n",
              "\n",
              "          const docLinkHtml = 'Like what you see? Visit the ' +\n",
              "            '<a target=\"_blank\" href=https://colab.research.google.com/notebooks/data_table.ipynb>data table notebook</a>'\n",
              "            + ' to learn more about interactive tables.';\n",
              "          element.innerHTML = '';\n",
              "          dataTable['output_type'] = 'display_data';\n",
              "          await google.colab.output.renderOutput(dataTable, element);\n",
              "          const docLink = document.createElement('div');\n",
              "          docLink.innerHTML = docLinkHtml;\n",
              "          element.appendChild(docLink);\n",
              "        }\n",
              "      </script>\n",
              "    </div>\n",
              "  </div>\n",
              "  "
            ]
          },
          "metadata": {},
          "execution_count": 59
        }
      ]
    },
    {
      "cell_type": "code",
      "source": [
        "# select only features with relative importance higher than 1%\n",
        "selected_features = relative_importances[relative_importances.importance>0.01]\n",
        "\n",
        "# create a list from those features: done\n",
        "selected_list = selected_features.index\n",
        "\n",
        "# transform both features_train and features_test components to include only selected features\n",
        "features_train_selected = features_train[selected_list]\n",
        "features_test_selected = features_test[selected_list]"
      ],
      "metadata": {
        "id": "stCHT3hhqCp6"
      },
      "execution_count": 60,
      "outputs": []
    },
    {
      "cell_type": "code",
      "source": [
        "# Initialize the best model using parameters provided in description\n",
        "model_best = DecisionTreeClassifier(max_depth=8, min_samples_leaf=150, class_weight='balanced', random_state=42)\n",
        "\n",
        "# Fit the model using only selected features from training set: done\n",
        "model_best.fit(features_train_selected, target_train)\n",
        "\n",
        "# Make prediction based on selected list of features from test set\n",
        "prediction_best = model_best.predict(features_test_selected)\n",
        "\n",
        "# Print the general accuracy of the model_best\n",
        "print(model_best.score(features_test_selected, target_test) * 100)\n",
        "\n",
        "# Print the recall score of the model predictions\n",
        "print(recall_score(target_test, prediction_best) * 100)\n",
        "\n",
        "# Print the ROC/AUC score of the model predictions\n",
        "print(roc_auc_score(target_test, prediction_best) * 100)"
      ],
      "metadata": {
        "colab": {
          "base_uri": "https://localhost:8080/"
        },
        "id": "AGRu0yD6qxHO",
        "outputId": "b0eab3fb-eef9-46e1-ff38-4356b2d997e2"
      },
      "execution_count": 61,
      "outputs": [
        {
          "output_type": "stream",
          "name": "stdout",
          "text": [
            "95.28\n",
            "91.75027870680044\n",
            "94.07002193314084\n"
          ]
        }
      ]
    },
    {
      "cell_type": "code",
      "source": [
        ""
      ],
      "metadata": {
        "id": "VTfal6YlqxkM"
      },
      "execution_count": null,
      "outputs": []
    }
  ]
}